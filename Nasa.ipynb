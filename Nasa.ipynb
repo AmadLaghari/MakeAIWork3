{
 "cells": [
  {
   "cell_type": "code",
   "execution_count": 34,
   "id": "0a61acb0-f715-4ce9-9d1d-92801060e20f",
   "metadata": {},
   "outputs": [],
   "source": [
    "from selenium import webdriver\n",
    "from selenium.webdriver.common.keys import Keys\n",
    "from webdriver_manager.chrome import ChromeDriverManager\n",
    "from selenium.webdriver.common.by import By\n",
    "from selenium.webdriver.support.ui import WebDriverWait\n",
    "from selenium.webdriver.support import expected_conditions as EC\n",
    "from selenium.common.exceptions import TimeoutException\n",
    "from selenium.webdriver.support.ui import Select\n",
    "from selenium.webdriver.common.action_chains import ActionChains\n",
    "from bs4 import BeautifulSoup\n",
    "import requests\n",
    "import time"
   ]
  },
  {
   "cell_type": "code",
   "execution_count": 87,
   "id": "72438265-d5a6-42ce-bf00-949d25e54f0f",
   "metadata": {},
   "outputs": [
    {
     "name": "stdout",
     "output_type": "stream",
     "text": [
      "['https://solarsystem.nasa.gov//moons/earths-moon/in-depth/', 'https://solarsystem.nasa.gov//moons/mars-moons/in-depth/', 'https://solarsystem.nasa.gov//moons/jupiter-moons/in-depth/', 'https://solarsystem.nasa.gov//moons/saturn-moons/in-depth/', 'https://solarsystem.nasa.gov//moons/uranus-moons/in-depth/', 'https://solarsystem.nasa.gov//moons/neptune-moons/in-depth/', 'https://solarsystem.nasa.gov//moons/pluto-moons/in-depth/']\n"
     ]
    }
   ],
   "source": [
    "r = requests.get('https://solarsystem.nasa.gov/moons/overview/')\n",
    "base_url = 'https://solarsystem.nasa.gov/'\n",
    "soup = BeautifulSoup(r.content, 'lxml')\n",
    "moonlist = soup.find_all('li', class_='nav_item')\n",
    "\n",
    "moon_links = []\n",
    "\n",
    "for item in moonlist:\n",
    "    for link in item.find_all('a', href=True):\n",
    "        if 'moon' in link['href']:\n",
    "            moonlinks = (base_url + link['href'])\n",
    "            moonlinks_loc = moonlinks.find('/overview')\n",
    "            moonlinks = moonlinks[0:moonlinks_loc]\n",
    "            moon_links.append(moonlinks+'/in-depth/')\n",
    "            \n",
    "print(moon_links)"
   ]
  },
  {
   "cell_type": "code",
   "execution_count": null,
   "id": "ee89c24d-6ab0-4728-928a-f1f30d14e398",
   "metadata": {},
   "outputs": [
    {
     "ename": "AttributeError",
     "evalue": "'NoneType' object has no attribute 'text'",
     "output_type": "error",
     "traceback": [
      "\u001b[1;31m---------------------------------------------------------------------------\u001b[0m",
      "\u001b[1;31mAttributeError\u001b[0m                            Traceback (most recent call last)",
      "Cell \u001b[1;32mIn [71], line 7\u001b[0m\n\u001b[0;32m      4\u001b[0m soup \u001b[38;5;241m=\u001b[39m BeautifulSoup(response\u001b[38;5;241m.\u001b[39mcontent, \u001b[38;5;124m'\u001b[39m\u001b[38;5;124mlxml\u001b[39m\u001b[38;5;124m'\u001b[39m)\n\u001b[0;32m      6\u001b[0m \u001b[38;5;66;03m# Title\u001b[39;00m\n\u001b[1;32m----> 7\u001b[0m Title \u001b[38;5;241m=\u001b[39m \u001b[43msoup\u001b[49m\u001b[38;5;241;43m.\u001b[39;49m\u001b[43mfind\u001b[49m\u001b[43m(\u001b[49m\u001b[38;5;124;43m'\u001b[39;49m\u001b[38;5;124;43mh1\u001b[39;49m\u001b[38;5;124;43m'\u001b[39;49m\u001b[43m,\u001b[49m\u001b[43m \u001b[49m\u001b[43mclass_\u001b[49m\u001b[38;5;241;43m=\u001b[39;49m\u001b[38;5;124;43m'\u001b[39;49m\u001b[38;5;124;43marticle_title\u001b[39;49m\u001b[38;5;124;43m'\u001b[39;49m\u001b[43m)\u001b[49m\u001b[38;5;241;43m.\u001b[39;49m\u001b[43mtext\u001b[49m\u001b[38;5;241m.\u001b[39mstrip()\n\u001b[0;32m      8\u001b[0m \u001b[38;5;28mprint\u001b[39m(\u001b[38;5;124m\"\u001b[39m\u001b[38;5;124mNaam maan:\u001b[39m\u001b[38;5;124m\"\u001b[39m, Title)\n\u001b[0;32m     10\u001b[0m page \u001b[38;5;241m=\u001b[39m requests\u001b[38;5;241m.\u001b[39mget(link)\n",
      "\u001b[1;31mAttributeError\u001b[0m: 'NoneType' object has no attribute 'text'"
     ]
    }
   ],
   "source": [
    "url = \"https://solarsystem.nasa.gov\"\n",
    "for link in moon_links:\n",
    "        response = requests.get(link) \n",
    "        soup = BeautifulSoup(response.content, 'lxml')\n",
    "        \n",
    "        # Title\n",
    "        Title = soup.find('h1', class_='article_title').text.strip()\n",
    "        print(\"Naam maan:\", Title)\n",
    "        \n",
    "        page = requests.get(link)\n",
    "        soup_ = BeautifulSoup(page.content, 'html.parser')\n",
    "        content = soup_.find('img',id='main_image')\n",
    "        image_tags = soup.find_all('img', id='main_image')\n",
    "        links = []\n",
    "        for image_tag in image_tags:\n",
    "            links.append(url+image_tag['src'])\n",
    "\n",
    "        print(links)"
   ]
  },
  {
   "cell_type": "code",
   "execution_count": null,
   "id": "ec279b40-34d2-416c-923b-a16919a66276",
   "metadata": {},
   "outputs": [],
   "source": []
  }
 ],
 "metadata": {
  "kernelspec": {
   "display_name": "Python 3 (ipykernel)",
   "language": "python",
   "name": "python3"
  },
  "language_info": {
   "codemirror_mode": {
    "name": "ipython",
    "version": 3
   },
   "file_extension": ".py",
   "mimetype": "text/x-python",
   "name": "python",
   "nbconvert_exporter": "python",
   "pygments_lexer": "ipython3",
   "version": "3.10.6"
  }
 },
 "nbformat": 4,
 "nbformat_minor": 5
}
