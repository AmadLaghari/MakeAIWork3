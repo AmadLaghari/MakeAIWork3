{
 "cells": [
  {
   "cell_type": "code",
   "execution_count": 82,
   "id": "f252923a-4469-4a04-9f65-4f96642ac36a",
   "metadata": {},
   "outputs": [],
   "source": [
    "# !pip install webdriver-manager"
   ]
  },
  {
   "cell_type": "markdown",
   "id": "acb9bf31-6e97-498c-b6eb-6b7e5287d527",
   "metadata": {},
   "source": [
    "<h1>Lib"
   ]
  },
  {
   "cell_type": "code",
   "execution_count": 102,
   "id": "3035affb-0424-478b-b31b-56fc02e345e5",
   "metadata": {},
   "outputs": [],
   "source": [
    "from selenium import webdriver\n",
    "from selenium.webdriver.common.keys import Keys\n",
    "from webdriver_manager.chrome import ChromeDriverManager\n",
    "from selenium.webdriver.common.by import By\n",
    "from selenium.webdriver.support.ui import WebDriverWait\n",
    "from selenium.webdriver.support import expected_conditions as EC\n",
    "from selenium.common.exceptions import TimeoutException\n",
    "from selenium.webdriver.support.ui import Select\n",
    "from selenium.webdriver.common.action_chains import ActionChains\n",
    "from bs4 import BeautifulSoup\n",
    "import requests\n",
    "import time"
   ]
  },
  {
   "cell_type": "markdown",
   "id": "1e31f4f8-6594-4614-9a76-dd1ebc861789",
   "metadata": {},
   "source": [
    "<h1>Main category links"
   ]
  },
  {
   "cell_type": "code",
   "execution_count": 103,
   "id": "2a74e66f-4813-4648-a675-f74627e1f3d9",
   "metadata": {},
   "outputs": [],
   "source": [
    "schroeven = 'https://www.hoenderdaal-fasteners.nl/nl-nl/producten/schroeven'\n",
    "bouten = 'https://www.hoenderdaal-fasteners.nl/nl-nl/producten/bouten'\n",
    "moeren = 'https://www.hoenderdaal-fasteners.nl/nl-nl/producten/moeren'\n",
    "draadeinden =  'https://www.hoenderdaal-fasteners.nl/nl-nl/producten/draadeinden'\n",
    "ringen =  'https://www.hoenderdaal-fasteners.nl/nl-nl/producten/ringen'\n",
    "nagels =  'https://www.hoenderdaal-fasteners.nl/nl-nl/producten/nagels'\n",
    "pluggen_ankers =  'https://www.hoenderdaal-fasteners.nl/nl-nl/producten/pluggen-ankers'\n",
    "kleine_ijzerwaren = 'https://www.hoenderdaal-fasteners.nl/nl-nl/producten/kleine-ijzerwaren'\n",
    "technische_ijzerwaren = 'https://www.hoenderdaal-fasteners.nl/nl-nl/producten/technische-ijzerwaren'\n",
    "afdekkappen = 'https://www.hoenderdaal-fasteners.nl/nl-nl/producten/afdekkappen'"
   ]
  },
  {
   "cell_type": "markdown",
   "id": "a0e96cc8-a26d-48ed-8292-f2d16b5506d0",
   "metadata": {},
   "source": [
    "<h1>Sub Category links"
   ]
  },
  {
   "cell_type": "code",
   "execution_count": 105,
   "id": "4f3f236d-1332-472b-9566-cb06c1f127e8",
   "metadata": {},
   "outputs": [],
   "source": [
    "spaanplaatschroeven = 'https://www.hoenderdaal-fasteners.nl/nl-nl/producten/schroeven/spaanplaatschroeven?PageNum='\n",
    "houtbouwschroeven= 'https://www.hoenderdaal-fasteners.nl/nl-nl/producten/schroeven/houtbouwschroeven?PageNum='\n",
    "vlonderschroeven = 'https://www.hoenderdaal-fasteners.nl/nl-nl/producten/schroeven/vlonderschroeven?PageNum='\n",
    "plaatschroeven_zelfborend = 'https://www.hoenderdaal-fasteners.nl/nl-nl/producten/schroeven/plaatschroeven-zelfborend?PageNum='\n",
    "gipsplaatschroeven = 'https://www.hoenderdaal-fasteners.nl/nl-nl/producten/schroeven/gipsplaatschroeven?PageNum='\n",
    "plaatschroeven_zelftappend  = 'https://www.hoenderdaal-fasteners.nl/nl-nl/producten/schroeven/plaatschroeven-zelftappend?PageNum='\n",
    "hpl_schroeven = 'https://www.hoenderdaal-fasteners.nl/nl-nl/producten/schroeven/hpl-schroeven?PageNum='\n",
    "spenglerschroeven = 'https://www.hoenderdaal-fasteners.nl/nl-nl/producten/schroeven/spenglerschroeven?PageNum='\n",
    "beslagschroeven = 'https://www.hoenderdaal-fasteners.nl/nl-nl/producten/schroeven/beslagschroeven?PageNum='\n",
    "glaslatschroeven = 'https://www.hoenderdaal-fasteners.nl/nl-nl/producten/schroeven/glaslatschroeven?PageNum='\n",
    "mdf_schroeven = 'https://www.hoenderdaal-fasteners.nl/nl-nl/producten/schroeven/mdf-schroeven?PageNum='\n",
    "gevelschroeven = 'https://www.hoenderdaal-fasteners.nl/nl-nl/producten/schroeven/gevelschroeven?PageNum='\n",
    "stokeinden = 'https://www.hoenderdaal-fasteners.nl/nl-nl/producten/schroeven/stokeinden?PageNum='\n",
    "profielplaatschroeven = 'https://www.hoenderdaal-fasteners.nl/nl-nl/producten/schroeven/profielplaatschroeven?PageNum='\n",
    "houtschroeven = 'https://www.hoenderdaal-fasteners.nl/nl-nl/producten/schroeven/houtschroeven?PageNum='\n",
    "achterwandschroeven = 'https://www.hoenderdaal-fasteners.nl/nl-nl/producten/schroeven/achterwandschroeven?PageNum='\n",
    "tuinbeslagschroeven = 'https://www.hoenderdaal-fasteners.nl/nl-nl/producten/schroeven/tuinbeslagschroeven?PageNum='\n",
    "paalhouderschroeven = 'https://www.hoenderdaal-fasteners.nl/nl-nl/producten/schroeven/paalhouderschroeven?PageNum='\n",
    "vloerschroeven = 'https://www.hoenderdaal-fasteners.nl/nl-nl/producten/schroeven/vloerschroeven?PageNum='\n",
    "sandwichpaneelschroeven = 'https://www.hoenderdaal-fasteners.nl/nl-nl/producten/schroeven/sandwichpaneelschroeven?PageNum='\n",
    "installatieschroeven = 'https://www.hoenderdaal-fasteners.nl/nl-nl/producten/schroeven/installatieschroeven?PageNum='\n",
    "anti_inbraakschroeven= 'https://www.hoenderdaal-fasteners.nl/nl-nl/producten/schroeven/anti-inbraakschroeven?PageNum='\n",
    "meubelverbinders = 'https://www.hoenderdaal-fasteners.nl/nl-nl/producten/schroeven/meubelverbinders?PageNum='\n",
    "afstandschroeven = 'https://www.hoenderdaal-fasteners.nl/nl-nl/producten/schroeven/afstandschroeven?PageNum='\n",
    "ankerschroeven = 'https://www.hoenderdaal-fasteners.nl/nl-nl/producten/schroeven/ankerschroeven?PageNum='\n",
    "euroschroeven = 'https://www.hoenderdaal-fasteners.nl/nl-nl/producten/schroeven/euroschroeven?PageNum='\n",
    "isolatieschroeven = 'https://www.hoenderdaal-fasteners.nl/nl-nl/producten/schroeven/isolatieschroeven?PageNum='"
   ]
  },
  {
   "cell_type": "markdown",
   "id": "d6555f08-65b2-4ff6-8d4f-e97f0f01598f",
   "metadata": {},
   "source": [
    "<h1>Looping through sub-categories"
   ]
  },
  {
   "cell_type": "code",
   "execution_count": 106,
   "id": "975e2af1-865b-46b0-baa9-7fbb2066dddc",
   "metadata": {},
   "outputs": [],
   "source": [
    "schroeven_list = [houtbouwschroeven]\n",
    "# schroeven_list = [spaanplaatschroeven, houtbouwschroeven, vlonderschroeven, plaatschroeven_zelfborend, gipsplaatschroeven, plaatschroeven_zelftappend, hpl_schroeven, spenglerschroeven, beslagschroeven, glaslatschroeven,\n",
    "#                  mdf_schroeven, gevelschroeven, stokeinden, profielplaatschroeven, houtschroeven, achterwandschroeven, tuinbeslagschroeven, paalhouderschroeven, vloerschroeven, sandwichpaneelschroeven,\n",
    "#                   installatieschroeven, anti_inbraakschroeven, meubelverbinders, afstandschroeven, ankerschroeven, euroschroeven, isolatieschroeven]\n",
    "# # for y in schroeven_list:\n",
    "#     for p in range(1,5):\n",
    "#         print(f'{y}{p}')"
   ]
  },
  {
   "cell_type": "markdown",
   "id": "a6b250af-53ab-4d0c-b695-7b34f4f0f308",
   "metadata": {},
   "source": [
    "<h1>Extracting productpage-links from sub-categories"
   ]
  },
  {
   "cell_type": "code",
   "execution_count": 107,
   "id": "a0cb6e0a-5b4e-4260-8cc3-57ce0d253a24",
   "metadata": {},
   "outputs": [],
   "source": [
    "base = \"https://www.hoenderdaal-fasteners.nl\"\n",
    "productlinks = []\n",
    "for y in schroeven_list:\n",
    "    for p in range(1,5):\n",
    "        r = requests.get(f'{y}{p}')\n",
    "        soup = BeautifulSoup(r.content, 'lxml')\n",
    "        productlist = soup.find_all('h3', class_='product-list__content__list__product__row__image__title hide-on-desktop')\n",
    "        for item in productlist:\n",
    "            for link in item.find_all('a', href=True):\n",
    "                # print(base+link['href'])\n",
    "                productlinks.append(base+link['href'])\n"
   ]
  },
  {
   "cell_type": "markdown",
   "id": "cc9ccb87-4666-48a8-b08b-73dfed8157d3",
   "metadata": {},
   "source": [
    "<h1>Extracting Variants</h1>"
   ]
  },
  {
   "cell_type": "code",
   "execution_count": 108,
   "id": "715e286a-5028-4630-8f23-850c7e384cbd",
   "metadata": {},
   "outputs": [],
   "source": [
    "# link = \"https://www.hoenderdaal-fasteners.nl/nl-nl/producten/bouten/slotbouten/slotbout-verzinkt-4-8-din603-555/m5-x-16-25\"\n",
    "product_links = []\n",
    "for link in productlinks:\n",
    "    r = requests.get(link)\n",
    "    soup = BeautifulSoup(r.content, 'lxml')\n",
    "    productlist = soup.find_all('select', id=\"variantselector\")\n",
    "    f = str(productlist)\n",
    "    g = f.split(\"option\")\n",
    "    for x in g:\n",
    "        if \"link\" in x:\n",
    "            # print(x)\n",
    "            # print(x.find('VariantID'))\n",
    "            vlinks = base + x[12:88]\n",
    "            product_links.append(vlinks)\n",
    "            # print(vlinks)\n",
    "        # variant = soup.find('select', id=\"variantselector\")\n",
    "# print(product_links)"
   ]
  },
  {
   "cell_type": "markdown",
   "id": "3b795e61-45ac-4f26-b879-856d7099ab67",
   "metadata": {},
   "source": [
    "<h1>Scraping"
   ]
  },
  {
   "cell_type": "code",
   "execution_count": 109,
   "id": "d492b7c0-6858-4c3a-8d16-72b227451e50",
   "metadata": {},
   "outputs": [
    {
     "name": "stderr",
     "output_type": "stream",
     "text": [
      "C:\\Users\\amad_\\AppData\\Local\\Temp\\ipykernel_14044\\3825498542.py:1: DeprecationWarning: executable_path has been deprecated, please pass in a Service object\n",
      "  driver = webdriver.Chrome(ChromeDriverManager().install())\n"
     ]
    }
   ],
   "source": [
    "driver = webdriver.Chrome(ChromeDriverManager().install())\n",
    "wait = WebDriverWait(driver, 30)\n",
    "html = driver.page_source\n",
    "soup_ = BeautifulSoup(html, 'html.parser')\n",
    "\n",
    "\n",
    "url = \"https://www.hoenderdaal-fasteners.nl/nl-nl/inloggen?redirect=%2f\"\n",
    "email = 'info@bladi.shop'\n",
    "wachtwoord = \"Fouadinou1@\"\n",
    "driver.get(url)\n",
    "time.sleep(1)\n",
    "# driver.maximize_window()\n",
    "# time.sleep(1)\n",
    "driver.find_element('id', \"login-username-general\").send_keys(email)\n",
    "time.sleep(1)\n",
    "driver.find_element('id', \"login-password-general\").send_keys(wachtwoord)\n",
    "time.sleep(1)\n",
    "driver.find_element('id', \"login-password-general\").send_keys(Keys.ENTER)\n",
    "time.sleep(3)\n",
    "\n",
    "driver.get('https://www.hoenderdaal-fasteners.nl/nl-nl/producten/schroeven')\n"
   ]
  },
  {
   "cell_type": "code",
   "execution_count": 111,
   "id": "0b34cac5-4a04-4753-bd0c-5c5fd968d0bf",
   "metadata": {},
   "outputs": [
    {
     "name": "stdout",
     "output_type": "stream",
     "text": [
      "['Dynaplus houtbouwschroef +snijpunt verzinkt tellerkop TX', 'Dynaplus', 'Dynaplus', '0286.01.01', 'Diameter:3 mm<br>Lengte:10 mm<br>Draaduitvoering:Voldraad<br>Model kop:Platkop<br>Aandrijvingstype:Pozi<br>Aandrijvingsmaat:1<br>Kopdiameter:5,7 mm<br>Wokkel:Nee<br>Materiaal:Staal<br>Oppervlaktebehandeling:Elektrolytisch verzinkt<br>Kleur oppervlaktebehandeling:Blauw<br>Gewicht per 100 stuks:0,047 kg<br>PLU-nummer:1003<br>EAN/GTIN:8712811032515', '3', '10', 'Voldraad', 'Platkop', 'Pozi', '1', 5.7, 'Nee', 4.7, '1003', '8712811032515', '€ 0']\n",
      "-\n",
      "['Dynaplus houtbouwschroef +snijpunt verzinkt tellerkop TX', 'Dynaplus', 'Dynaplus', '0286.01.01', 'Diameter:3 mm<br>Lengte:10 mm<br>Draaduitvoering:Voldraad<br>Model kop:Platkop<br>Aandrijvingstype:Pozi<br>Aandrijvingsmaat:1<br>Kopdiameter:5,7 mm<br>Wokkel:Nee<br>Materiaal:Staal<br>Oppervlaktebehandeling:Elektrolytisch verzinkt<br>Kleur oppervlaktebehandeling:Blauw<br>Gewicht per 100 stuks:0,047 kg<br>PLU-nummer:1003<br>EAN/GTIN:8712811032515', '3', '10', 'Voldraad', 'Platkop', 'Pozi', '1', 5.7, 'Nee', 4.7, '1003', '8712811032515', '€ 0']\n",
      "-\n",
      "['Dynaplus houtbouwschroef +snijpunt verzinkt tellerkop TX', 'Dynaplus', 'Dynaplus', '0286.01.01', 'Diameter:3 mm<br>Lengte:10 mm<br>Draaduitvoering:Voldraad<br>Model kop:Platkop<br>Aandrijvingstype:Pozi<br>Aandrijvingsmaat:1<br>Kopdiameter:5,7 mm<br>Wokkel:Nee<br>Materiaal:Staal<br>Oppervlaktebehandeling:Elektrolytisch verzinkt<br>Kleur oppervlaktebehandeling:Blauw<br>Gewicht per 100 stuks:0,047 kg<br>PLU-nummer:1003<br>EAN/GTIN:8712811032515', '3', '10', 'Voldraad', 'Platkop', 'Pozi', '1', 5.7, 'Nee', 4.7, '1003', '8712811032515', '€ 0']\n",
      "-\n",
      "['Dynaplus houtbouwschroef +snijpunt verzinkt tellerkop TX', 'Dynaplus', 'Dynaplus', '0286.01.01', 'Diameter:3 mm<br>Lengte:10 mm<br>Draaduitvoering:Voldraad<br>Model kop:Platkop<br>Aandrijvingstype:Pozi<br>Aandrijvingsmaat:1<br>Kopdiameter:5,7 mm<br>Wokkel:Nee<br>Materiaal:Staal<br>Oppervlaktebehandeling:Elektrolytisch verzinkt<br>Kleur oppervlaktebehandeling:Blauw<br>Gewicht per 100 stuks:0,047 kg<br>PLU-nummer:1003<br>EAN/GTIN:8712811032515', '3', '10', 'Voldraad', 'Platkop', 'Pozi', '1', 5.7, 'Nee', 4.7, '1003', '8712811032515', '€ 0']\n",
      "-\n",
      "['Dynaplus houtbouwschroef +snijpunt verzinkt tellerkop TX', 'Dynaplus', 'Dynaplus', '0286.01.01', 'Diameter:3 mm<br>Lengte:10 mm<br>Draaduitvoering:Voldraad<br>Model kop:Platkop<br>Aandrijvingstype:Pozi<br>Aandrijvingsmaat:1<br>Kopdiameter:5,7 mm<br>Wokkel:Nee<br>Materiaal:Staal<br>Oppervlaktebehandeling:Elektrolytisch verzinkt<br>Kleur oppervlaktebehandeling:Blauw<br>Gewicht per 100 stuks:0,047 kg<br>PLU-nummer:1003<br>EAN/GTIN:8712811032515', '3', '10', 'Voldraad', 'Platkop', 'Pozi', '1', 5.7, 'Nee', 4.7, '1003', '8712811032515', '€ 0']\n",
      "-\n",
      "['Dynaplus houtbouwschroef +snijpunt verzinkt tellerkop TX', 'Dynaplus', 'Dynaplus', '0286.01.01', 'Diameter:3 mm<br>Lengte:10 mm<br>Draaduitvoering:Voldraad<br>Model kop:Platkop<br>Aandrijvingstype:Pozi<br>Aandrijvingsmaat:1<br>Kopdiameter:5,7 mm<br>Wokkel:Nee<br>Materiaal:Staal<br>Oppervlaktebehandeling:Elektrolytisch verzinkt<br>Kleur oppervlaktebehandeling:Blauw<br>Gewicht per 100 stuks:0,047 kg<br>PLU-nummer:1003<br>EAN/GTIN:8712811032515', '3', '10', 'Voldraad', 'Platkop', 'Pozi', '1', 5.7, 'Nee', 4.7, '1003', '8712811032515', '€ 0']\n",
      "-\n",
      "['Dynaplus houtbouwschroef +snijpunt verzinkt tellerkop TX', 'Dynaplus', 'Dynaplus', '0286.01.01', 'Diameter:3 mm<br>Lengte:10 mm<br>Draaduitvoering:Voldraad<br>Model kop:Platkop<br>Aandrijvingstype:Pozi<br>Aandrijvingsmaat:1<br>Kopdiameter:5,7 mm<br>Wokkel:Nee<br>Materiaal:Staal<br>Oppervlaktebehandeling:Elektrolytisch verzinkt<br>Kleur oppervlaktebehandeling:Blauw<br>Gewicht per 100 stuks:0,047 kg<br>PLU-nummer:1003<br>EAN/GTIN:8712811032515', '3', '10', 'Voldraad', 'Platkop', 'Pozi', '1', 5.7, 'Nee', 4.7, '1003', '8712811032515', '€ 0']\n",
      "-\n",
      "['Dynaplus houtbouwschroef +snijpunt verzinkt tellerkop TX', 'Dynaplus', 'Dynaplus', '0286.01.01', 'Diameter:3 mm<br>Lengte:10 mm<br>Draaduitvoering:Voldraad<br>Model kop:Platkop<br>Aandrijvingstype:Pozi<br>Aandrijvingsmaat:1<br>Kopdiameter:5,7 mm<br>Wokkel:Nee<br>Materiaal:Staal<br>Oppervlaktebehandeling:Elektrolytisch verzinkt<br>Kleur oppervlaktebehandeling:Blauw<br>Gewicht per 100 stuks:0,047 kg<br>PLU-nummer:1003<br>EAN/GTIN:8712811032515', '3', '10', 'Voldraad', 'Platkop', 'Pozi', '1', 5.7, 'Nee', 4.7, '1003', '8712811032515', '€ 0']\n",
      "-\n",
      "['Dynaplus houtbouwschroef +snijpunt verzinkt tellerkop TX', 'Dynaplus', 'Dynaplus', '0286.01.01', 'Diameter:3 mm<br>Lengte:10 mm<br>Draaduitvoering:Voldraad<br>Model kop:Platkop<br>Aandrijvingstype:Pozi<br>Aandrijvingsmaat:1<br>Kopdiameter:5,7 mm<br>Wokkel:Nee<br>Materiaal:Staal<br>Oppervlaktebehandeling:Elektrolytisch verzinkt<br>Kleur oppervlaktebehandeling:Blauw<br>Gewicht per 100 stuks:0,047 kg<br>PLU-nummer:1003<br>EAN/GTIN:8712811032515', '3', '10', 'Voldraad', 'Platkop', 'Pozi', '1', 5.7, 'Nee', 4.7, '1003', '8712811032515', '€ 0']\n",
      "-\n",
      "['Dynaplus houtbouwschroef +snijpunt verzinkt tellerkop TX', 'Dynaplus', 'Dynaplus', '0286.01.01', 'Diameter:3 mm<br>Lengte:10 mm<br>Draaduitvoering:Voldraad<br>Model kop:Platkop<br>Aandrijvingstype:Pozi<br>Aandrijvingsmaat:1<br>Kopdiameter:5,7 mm<br>Wokkel:Nee<br>Materiaal:Staal<br>Oppervlaktebehandeling:Elektrolytisch verzinkt<br>Kleur oppervlaktebehandeling:Blauw<br>Gewicht per 100 stuks:0,047 kg<br>PLU-nummer:1003<br>EAN/GTIN:8712811032515', '3', '10', 'Voldraad', 'Platkop', 'Pozi', '1', 5.7, 'Nee', 4.7, '1003', '8712811032515', '€ 0']\n",
      "-\n",
      "['Dynaplus houtbouwschroef +snijpunt verzinkt tellerkop TX', 'Dynaplus', 'Dynaplus', '0286.01.01', 'Diameter:3 mm<br>Lengte:10 mm<br>Draaduitvoering:Voldraad<br>Model kop:Platkop<br>Aandrijvingstype:Pozi<br>Aandrijvingsmaat:1<br>Kopdiameter:5,7 mm<br>Wokkel:Nee<br>Materiaal:Staal<br>Oppervlaktebehandeling:Elektrolytisch verzinkt<br>Kleur oppervlaktebehandeling:Blauw<br>Gewicht per 100 stuks:0,047 kg<br>PLU-nummer:1003<br>EAN/GTIN:8712811032515', '3', '10', 'Voldraad', 'Platkop', 'Pozi', '1', 5.7, 'Nee', 4.7, '1003', '8712811032515', '€ 0']\n",
      "-\n",
      "['Dynaplus houtbouwschroef +snijpunt verzinkt tellerkop TX', 'Dynaplus', 'Dynaplus', '0286.01.01', 'Diameter:3 mm<br>Lengte:10 mm<br>Draaduitvoering:Voldraad<br>Model kop:Platkop<br>Aandrijvingstype:Pozi<br>Aandrijvingsmaat:1<br>Kopdiameter:5,7 mm<br>Wokkel:Nee<br>Materiaal:Staal<br>Oppervlaktebehandeling:Elektrolytisch verzinkt<br>Kleur oppervlaktebehandeling:Blauw<br>Gewicht per 100 stuks:0,047 kg<br>PLU-nummer:1003<br>EAN/GTIN:8712811032515', '3', '10', 'Voldraad', 'Platkop', 'Pozi', '1', 5.7, 'Nee', 4.7, '1003', '8712811032515', '€ 0']\n",
      "-\n",
      "['Dynaplus houtbouwschroef +snijpunt verzinkt tellerkop TX', 'Dynaplus', 'Dynaplus', '0286.01.01', 'Diameter:3 mm<br>Lengte:10 mm<br>Draaduitvoering:Voldraad<br>Model kop:Platkop<br>Aandrijvingstype:Pozi<br>Aandrijvingsmaat:1<br>Kopdiameter:5,7 mm<br>Wokkel:Nee<br>Materiaal:Staal<br>Oppervlaktebehandeling:Elektrolytisch verzinkt<br>Kleur oppervlaktebehandeling:Blauw<br>Gewicht per 100 stuks:0,047 kg<br>PLU-nummer:1003<br>EAN/GTIN:8712811032515', '3', '10', 'Voldraad', 'Platkop', 'Pozi', '1', 5.7, 'Nee', 4.7, '1003', '8712811032515', '€ 0']\n",
      "-\n",
      "['Dynaplus houtbouwschroef +snijpunt verzinkt tellerkop TX', 'Dynaplus', 'Dynaplus', '0286.01.01', 'Diameter:3 mm<br>Lengte:10 mm<br>Draaduitvoering:Voldraad<br>Model kop:Platkop<br>Aandrijvingstype:Pozi<br>Aandrijvingsmaat:1<br>Kopdiameter:5,7 mm<br>Wokkel:Nee<br>Materiaal:Staal<br>Oppervlaktebehandeling:Elektrolytisch verzinkt<br>Kleur oppervlaktebehandeling:Blauw<br>Gewicht per 100 stuks:0,047 kg<br>PLU-nummer:1003<br>EAN/GTIN:8712811032515', '3', '10', 'Voldraad', 'Platkop', 'Pozi', '1', 5.7, 'Nee', 4.7, '1003', '8712811032515', '€ 0']\n",
      "-\n",
      "['Dynaplus houtbouwschroef +snijpunt verzinkt tellerkop TX', 'Dynaplus', 'Dynaplus', '0286.01.01', 'Diameter:3 mm<br>Lengte:10 mm<br>Draaduitvoering:Voldraad<br>Model kop:Platkop<br>Aandrijvingstype:Pozi<br>Aandrijvingsmaat:1<br>Kopdiameter:5,7 mm<br>Wokkel:Nee<br>Materiaal:Staal<br>Oppervlaktebehandeling:Elektrolytisch verzinkt<br>Kleur oppervlaktebehandeling:Blauw<br>Gewicht per 100 stuks:0,047 kg<br>PLU-nummer:1003<br>EAN/GTIN:8712811032515', '3', '10', 'Voldraad', 'Platkop', 'Pozi', '1', 5.7, 'Nee', 4.7, '1003', '8712811032515', '€ 0']\n",
      "-\n",
      "['Dynaplus houtbouwschroef +snijpunt verzinkt tellerkop TX', 'Dynaplus', 'Dynaplus', '0286.01.01', 'Diameter:3 mm<br>Lengte:10 mm<br>Draaduitvoering:Voldraad<br>Model kop:Platkop<br>Aandrijvingstype:Pozi<br>Aandrijvingsmaat:1<br>Kopdiameter:5,7 mm<br>Wokkel:Nee<br>Materiaal:Staal<br>Oppervlaktebehandeling:Elektrolytisch verzinkt<br>Kleur oppervlaktebehandeling:Blauw<br>Gewicht per 100 stuks:0,047 kg<br>PLU-nummer:1003<br>EAN/GTIN:8712811032515', '3', '10', 'Voldraad', 'Platkop', 'Pozi', '1', 5.7, 'Nee', 4.7, '1003', '8712811032515', '€ 0']\n",
      "-\n",
      "['Dynaplus houtbouwschroef +snijpunt verzinkt tellerkop TX', 'Dynaplus', 'Dynaplus', '0286.01.01', 'Diameter:3 mm<br>Lengte:10 mm<br>Draaduitvoering:Voldraad<br>Model kop:Platkop<br>Aandrijvingstype:Pozi<br>Aandrijvingsmaat:1<br>Kopdiameter:5,7 mm<br>Wokkel:Nee<br>Materiaal:Staal<br>Oppervlaktebehandeling:Elektrolytisch verzinkt<br>Kleur oppervlaktebehandeling:Blauw<br>Gewicht per 100 stuks:0,047 kg<br>PLU-nummer:1003<br>EAN/GTIN:8712811032515', '3', '10', 'Voldraad', 'Platkop', 'Pozi', '1', 5.7, 'Nee', 4.7, '1003', '8712811032515', '€ 0']\n",
      "-\n",
      "['Dynaplus houtbouwschroef +snijpunt verzinkt tellerkop TX', 'Dynaplus', 'Dynaplus', '0286.01.01', 'Diameter:3 mm<br>Lengte:10 mm<br>Draaduitvoering:Voldraad<br>Model kop:Platkop<br>Aandrijvingstype:Pozi<br>Aandrijvingsmaat:1<br>Kopdiameter:5,7 mm<br>Wokkel:Nee<br>Materiaal:Staal<br>Oppervlaktebehandeling:Elektrolytisch verzinkt<br>Kleur oppervlaktebehandeling:Blauw<br>Gewicht per 100 stuks:0,047 kg<br>PLU-nummer:1003<br>EAN/GTIN:8712811032515', '3', '10', 'Voldraad', 'Platkop', 'Pozi', '1', 5.7, 'Nee', 4.7, '1003', '8712811032515', '€ 0']\n",
      "-\n",
      "['Dynaplus houtbouwschroef +snijpunt verzinkt tellerkop TX', 'Dynaplus', 'Dynaplus', '0286.01.01', 'Diameter:3 mm<br>Lengte:10 mm<br>Draaduitvoering:Voldraad<br>Model kop:Platkop<br>Aandrijvingstype:Pozi<br>Aandrijvingsmaat:1<br>Kopdiameter:5,7 mm<br>Wokkel:Nee<br>Materiaal:Staal<br>Oppervlaktebehandeling:Elektrolytisch verzinkt<br>Kleur oppervlaktebehandeling:Blauw<br>Gewicht per 100 stuks:0,047 kg<br>PLU-nummer:1003<br>EAN/GTIN:8712811032515', '3', '10', 'Voldraad', 'Platkop', 'Pozi', '1', 5.7, 'Nee', 4.7, '1003', '8712811032515', '€ 0']\n",
      "-\n",
      "['Dynaplus houtbouwschroef +snijpunt verzinkt tellerkop TX', 'Dynaplus', 'Dynaplus', '0286.01.01', 'Diameter:3 mm<br>Lengte:10 mm<br>Draaduitvoering:Voldraad<br>Model kop:Platkop<br>Aandrijvingstype:Pozi<br>Aandrijvingsmaat:1<br>Kopdiameter:5,7 mm<br>Wokkel:Nee<br>Materiaal:Staal<br>Oppervlaktebehandeling:Elektrolytisch verzinkt<br>Kleur oppervlaktebehandeling:Blauw<br>Gewicht per 100 stuks:0,047 kg<br>PLU-nummer:1003<br>EAN/GTIN:8712811032515', '3', '10', 'Voldraad', 'Platkop', 'Pozi', '1', 5.7, 'Nee', 4.7, '1003', '8712811032515', '€ 0']\n",
      "-\n",
      "['Dynaplus houtbouwschroef +snijpunt verzinkt tellerkop TX', 'Dynaplus', 'Dynaplus', '0286.01.01', 'Diameter:3 mm<br>Lengte:10 mm<br>Draaduitvoering:Voldraad<br>Model kop:Platkop<br>Aandrijvingstype:Pozi<br>Aandrijvingsmaat:1<br>Kopdiameter:5,7 mm<br>Wokkel:Nee<br>Materiaal:Staal<br>Oppervlaktebehandeling:Elektrolytisch verzinkt<br>Kleur oppervlaktebehandeling:Blauw<br>Gewicht per 100 stuks:0,047 kg<br>PLU-nummer:1003<br>EAN/GTIN:8712811032515', '3', '10', 'Voldraad', 'Platkop', 'Pozi', '1', 5.7, 'Nee', 4.7, '1003', '8712811032515', '€ 0']\n",
      "-\n",
      "['Dynaplus houtbouwschroef +snijpunt verzinkt tellerkop TX', 'Dynaplus', 'Dynaplus', '0286.01.01', 'Diameter:3 mm<br>Lengte:10 mm<br>Draaduitvoering:Voldraad<br>Model kop:Platkop<br>Aandrijvingstype:Pozi<br>Aandrijvingsmaat:1<br>Kopdiameter:5,7 mm<br>Wokkel:Nee<br>Materiaal:Staal<br>Oppervlaktebehandeling:Elektrolytisch verzinkt<br>Kleur oppervlaktebehandeling:Blauw<br>Gewicht per 100 stuks:0,047 kg<br>PLU-nummer:1003<br>EAN/GTIN:8712811032515', '3', '10', 'Voldraad', 'Platkop', 'Pozi', '1', 5.7, 'Nee', 4.7, '1003', '8712811032515', '€ 0']\n",
      "-\n",
      "['Dynaplus houtbouwschroef +snijpunt verzinkt tellerkop TX', 'Dynaplus', 'Dynaplus', '0286.01.01', 'Diameter:3 mm<br>Lengte:10 mm<br>Draaduitvoering:Voldraad<br>Model kop:Platkop<br>Aandrijvingstype:Pozi<br>Aandrijvingsmaat:1<br>Kopdiameter:5,7 mm<br>Wokkel:Nee<br>Materiaal:Staal<br>Oppervlaktebehandeling:Elektrolytisch verzinkt<br>Kleur oppervlaktebehandeling:Blauw<br>Gewicht per 100 stuks:0,047 kg<br>PLU-nummer:1003<br>EAN/GTIN:8712811032515', '3', '10', 'Voldraad', 'Platkop', 'Pozi', '1', 5.7, 'Nee', 4.7, '1003', '8712811032515', '€ 0']\n",
      "-\n",
      "['Dynaplus houtbouwschroef +snijpunt verzinkt tellerkop TX', 'Dynaplus', 'Dynaplus', '0286.01.01', 'Diameter:3 mm<br>Lengte:10 mm<br>Draaduitvoering:Voldraad<br>Model kop:Platkop<br>Aandrijvingstype:Pozi<br>Aandrijvingsmaat:1<br>Kopdiameter:5,7 mm<br>Wokkel:Nee<br>Materiaal:Staal<br>Oppervlaktebehandeling:Elektrolytisch verzinkt<br>Kleur oppervlaktebehandeling:Blauw<br>Gewicht per 100 stuks:0,047 kg<br>PLU-nummer:1003<br>EAN/GTIN:8712811032515', '3', '10', 'Voldraad', 'Platkop', 'Pozi', '1', 5.7, 'Nee', 4.7, '1003', '8712811032515', '€ 0']\n",
      "-\n",
      "['Dynaplus houtbouwschroef +snijpunt verzinkt tellerkop TX', 'Dynaplus', 'Dynaplus', '0286.01.01', 'Diameter:3 mm<br>Lengte:10 mm<br>Draaduitvoering:Voldraad<br>Model kop:Platkop<br>Aandrijvingstype:Pozi<br>Aandrijvingsmaat:1<br>Kopdiameter:5,7 mm<br>Wokkel:Nee<br>Materiaal:Staal<br>Oppervlaktebehandeling:Elektrolytisch verzinkt<br>Kleur oppervlaktebehandeling:Blauw<br>Gewicht per 100 stuks:0,047 kg<br>PLU-nummer:1003<br>EAN/GTIN:8712811032515', '3', '10', 'Voldraad', 'Platkop', 'Pozi', '1', 5.7, 'Nee', 4.7, '1003', '8712811032515', '€ 0']\n",
      "-\n"
     ]
    },
    {
     "ename": "KeyboardInterrupt",
     "evalue": "",
     "output_type": "error",
     "traceback": [
      "\u001b[1;31m---------------------------------------------------------------------------\u001b[0m",
      "\u001b[1;31mKeyboardInterrupt\u001b[0m                         Traceback (most recent call last)",
      "Cell \u001b[1;32mIn [111], line 18\u001b[0m\n\u001b[0;32m     16\u001b[0m driver\u001b[38;5;241m.\u001b[39mget(link)\n\u001b[0;32m     17\u001b[0m payload \u001b[38;5;241m=\u001b[39m {\u001b[38;5;124m'\u001b[39m\u001b[38;5;124mreports[]\u001b[39m\u001b[38;5;124m'\u001b[39m:\u001b[38;5;124m'\u001b[39m\u001b[38;5;124mpageviews\u001b[39m\u001b[38;5;124m'\u001b[39m, \u001b[38;5;124m'\u001b[39m\u001b[38;5;124mreports[]\u001b[39m\u001b[38;5;124m'\u001b[39m:\u001b[38;5;124m'\u001b[39m\u001b[38;5;124msearches\u001b[39m\u001b[38;5;124m'\u001b[39m,\u001b[38;5;124m'\u001b[39m\u001b[38;5;124mfrom\u001b[39m\u001b[38;5;124m'\u001b[39m:\u001b[38;5;124m'\u001b[39m\u001b[38;5;124mNov 19 2022\u001b[39m\u001b[38;5;124m'\u001b[39m, \u001b[38;5;124m'\u001b[39m\u001b[38;5;124mto\u001b[39m\u001b[38;5;124m'\u001b[39m:\u001b[38;5;124m'\u001b[39m\u001b[38;5;124mNov 20 2022\u001b[39m\u001b[38;5;124m'\u001b[39m }\n\u001b[1;32m---> 18\u001b[0m response \u001b[38;5;241m=\u001b[39m \u001b[43mrequests\u001b[49m\u001b[38;5;241;43m.\u001b[39;49m\u001b[43mget\u001b[49m\u001b[43m(\u001b[49m\u001b[43mlink\u001b[49m\u001b[43m,\u001b[49m\u001b[43mparams\u001b[49m\u001b[38;5;241;43m=\u001b[39;49m\u001b[43mpayload\u001b[49m\u001b[43m,\u001b[49m\u001b[43m \u001b[49m\u001b[43mauth\u001b[49m\u001b[43m \u001b[49m\u001b[38;5;241;43m=\u001b[39;49m\u001b[43mauthParams\u001b[49m\u001b[43m \u001b[49m\u001b[43m)\u001b[49m \n\u001b[0;32m     19\u001b[0m soup \u001b[38;5;241m=\u001b[39m BeautifulSoup(response\u001b[38;5;241m.\u001b[39mcontent, \u001b[38;5;124m'\u001b[39m\u001b[38;5;124mlxml\u001b[39m\u001b[38;5;124m'\u001b[39m)\n\u001b[0;32m     20\u001b[0m price_ \u001b[38;5;241m=\u001b[39m soup_\u001b[38;5;241m.\u001b[39mfind_all(\u001b[38;5;124m'\u001b[39m\u001b[38;5;124mspan\u001b[39m\u001b[38;5;124m'\u001b[39m, {\u001b[38;5;124m'\u001b[39m\u001b[38;5;124mclass\u001b[39m\u001b[38;5;124m'\u001b[39m:\u001b[38;5;124m\"\u001b[39m\u001b[38;5;124mprice\u001b[39m\u001b[38;5;124m\"\u001b[39m})\n",
      "File \u001b[1;32m~\\makeaiwork2\\env\\lib\\site-packages\\requests\\api.py:73\u001b[0m, in \u001b[0;36mget\u001b[1;34m(url, params, **kwargs)\u001b[0m\n\u001b[0;32m     62\u001b[0m \u001b[38;5;28;01mdef\u001b[39;00m \u001b[38;5;21mget\u001b[39m(url, params\u001b[38;5;241m=\u001b[39m\u001b[38;5;28;01mNone\u001b[39;00m, \u001b[38;5;241m*\u001b[39m\u001b[38;5;241m*\u001b[39mkwargs):\n\u001b[0;32m     63\u001b[0m     \u001b[38;5;124mr\u001b[39m\u001b[38;5;124;03m\"\"\"Sends a GET request.\u001b[39;00m\n\u001b[0;32m     64\u001b[0m \n\u001b[0;32m     65\u001b[0m \u001b[38;5;124;03m    :param url: URL for the new :class:`Request` object.\u001b[39;00m\n\u001b[1;32m   (...)\u001b[0m\n\u001b[0;32m     70\u001b[0m \u001b[38;5;124;03m    :rtype: requests.Response\u001b[39;00m\n\u001b[0;32m     71\u001b[0m \u001b[38;5;124;03m    \"\"\"\u001b[39;00m\n\u001b[1;32m---> 73\u001b[0m     \u001b[38;5;28;01mreturn\u001b[39;00m request(\u001b[38;5;124m\"\u001b[39m\u001b[38;5;124mget\u001b[39m\u001b[38;5;124m\"\u001b[39m, url, params\u001b[38;5;241m=\u001b[39mparams, \u001b[38;5;241m*\u001b[39m\u001b[38;5;241m*\u001b[39mkwargs)\n",
      "File \u001b[1;32m~\\makeaiwork2\\env\\lib\\site-packages\\requests\\api.py:59\u001b[0m, in \u001b[0;36mrequest\u001b[1;34m(method, url, **kwargs)\u001b[0m\n\u001b[0;32m     55\u001b[0m \u001b[38;5;66;03m# By using the 'with' statement we are sure the session is closed, thus we\u001b[39;00m\n\u001b[0;32m     56\u001b[0m \u001b[38;5;66;03m# avoid leaving sockets open which can trigger a ResourceWarning in some\u001b[39;00m\n\u001b[0;32m     57\u001b[0m \u001b[38;5;66;03m# cases, and look like a memory leak in others.\u001b[39;00m\n\u001b[0;32m     58\u001b[0m \u001b[38;5;28;01mwith\u001b[39;00m sessions\u001b[38;5;241m.\u001b[39mSession() \u001b[38;5;28;01mas\u001b[39;00m session:\n\u001b[1;32m---> 59\u001b[0m     \u001b[38;5;28;01mreturn\u001b[39;00m session\u001b[38;5;241m.\u001b[39mrequest(method\u001b[38;5;241m=\u001b[39mmethod, url\u001b[38;5;241m=\u001b[39murl, \u001b[38;5;241m*\u001b[39m\u001b[38;5;241m*\u001b[39mkwargs)\n",
      "File \u001b[1;32m~\\makeaiwork2\\env\\lib\\site-packages\\requests\\sessions.py:587\u001b[0m, in \u001b[0;36mSession.request\u001b[1;34m(self, method, url, params, data, headers, cookies, files, auth, timeout, allow_redirects, proxies, hooks, stream, verify, cert, json)\u001b[0m\n\u001b[0;32m    582\u001b[0m send_kwargs \u001b[38;5;241m=\u001b[39m {\n\u001b[0;32m    583\u001b[0m     \u001b[38;5;124m\"\u001b[39m\u001b[38;5;124mtimeout\u001b[39m\u001b[38;5;124m\"\u001b[39m: timeout,\n\u001b[0;32m    584\u001b[0m     \u001b[38;5;124m\"\u001b[39m\u001b[38;5;124mallow_redirects\u001b[39m\u001b[38;5;124m\"\u001b[39m: allow_redirects,\n\u001b[0;32m    585\u001b[0m }\n\u001b[0;32m    586\u001b[0m send_kwargs\u001b[38;5;241m.\u001b[39mupdate(settings)\n\u001b[1;32m--> 587\u001b[0m resp \u001b[38;5;241m=\u001b[39m \u001b[38;5;28mself\u001b[39m\u001b[38;5;241m.\u001b[39msend(prep, \u001b[38;5;241m*\u001b[39m\u001b[38;5;241m*\u001b[39msend_kwargs)\n\u001b[0;32m    589\u001b[0m \u001b[38;5;28;01mreturn\u001b[39;00m resp\n",
      "File \u001b[1;32m~\\makeaiwork2\\env\\lib\\site-packages\\requests\\sessions.py:723\u001b[0m, in \u001b[0;36mSession.send\u001b[1;34m(self, request, **kwargs)\u001b[0m\n\u001b[0;32m    720\u001b[0m \u001b[38;5;28;01mif\u001b[39;00m allow_redirects:\n\u001b[0;32m    721\u001b[0m     \u001b[38;5;66;03m# Redirect resolving generator.\u001b[39;00m\n\u001b[0;32m    722\u001b[0m     gen \u001b[38;5;241m=\u001b[39m \u001b[38;5;28mself\u001b[39m\u001b[38;5;241m.\u001b[39mresolve_redirects(r, request, \u001b[38;5;241m*\u001b[39m\u001b[38;5;241m*\u001b[39mkwargs)\n\u001b[1;32m--> 723\u001b[0m     history \u001b[38;5;241m=\u001b[39m [resp \u001b[38;5;28;01mfor\u001b[39;00m resp \u001b[38;5;129;01min\u001b[39;00m gen]\n\u001b[0;32m    724\u001b[0m \u001b[38;5;28;01melse\u001b[39;00m:\n\u001b[0;32m    725\u001b[0m     history \u001b[38;5;241m=\u001b[39m []\n",
      "File \u001b[1;32m~\\makeaiwork2\\env\\lib\\site-packages\\requests\\sessions.py:723\u001b[0m, in \u001b[0;36m<listcomp>\u001b[1;34m(.0)\u001b[0m\n\u001b[0;32m    720\u001b[0m \u001b[38;5;28;01mif\u001b[39;00m allow_redirects:\n\u001b[0;32m    721\u001b[0m     \u001b[38;5;66;03m# Redirect resolving generator.\u001b[39;00m\n\u001b[0;32m    722\u001b[0m     gen \u001b[38;5;241m=\u001b[39m \u001b[38;5;28mself\u001b[39m\u001b[38;5;241m.\u001b[39mresolve_redirects(r, request, \u001b[38;5;241m*\u001b[39m\u001b[38;5;241m*\u001b[39mkwargs)\n\u001b[1;32m--> 723\u001b[0m     history \u001b[38;5;241m=\u001b[39m [resp \u001b[38;5;28;01mfor\u001b[39;00m resp \u001b[38;5;129;01min\u001b[39;00m gen]\n\u001b[0;32m    724\u001b[0m \u001b[38;5;28;01melse\u001b[39;00m:\n\u001b[0;32m    725\u001b[0m     history \u001b[38;5;241m=\u001b[39m []\n",
      "File \u001b[1;32m~\\makeaiwork2\\env\\lib\\site-packages\\requests\\sessions.py:266\u001b[0m, in \u001b[0;36mSessionRedirectMixin.resolve_redirects\u001b[1;34m(self, resp, req, stream, timeout, verify, cert, proxies, yield_requests, **adapter_kwargs)\u001b[0m\n\u001b[0;32m    263\u001b[0m     \u001b[38;5;28;01myield\u001b[39;00m req\n\u001b[0;32m    264\u001b[0m \u001b[38;5;28;01melse\u001b[39;00m:\n\u001b[1;32m--> 266\u001b[0m     resp \u001b[38;5;241m=\u001b[39m \u001b[38;5;28mself\u001b[39m\u001b[38;5;241m.\u001b[39msend(\n\u001b[0;32m    267\u001b[0m         req,\n\u001b[0;32m    268\u001b[0m         stream\u001b[38;5;241m=\u001b[39mstream,\n\u001b[0;32m    269\u001b[0m         timeout\u001b[38;5;241m=\u001b[39mtimeout,\n\u001b[0;32m    270\u001b[0m         verify\u001b[38;5;241m=\u001b[39mverify,\n\u001b[0;32m    271\u001b[0m         cert\u001b[38;5;241m=\u001b[39mcert,\n\u001b[0;32m    272\u001b[0m         proxies\u001b[38;5;241m=\u001b[39mproxies,\n\u001b[0;32m    273\u001b[0m         allow_redirects\u001b[38;5;241m=\u001b[39m\u001b[38;5;28;01mFalse\u001b[39;00m,\n\u001b[0;32m    274\u001b[0m         \u001b[38;5;241m*\u001b[39m\u001b[38;5;241m*\u001b[39madapter_kwargs,\n\u001b[0;32m    275\u001b[0m     )\n\u001b[0;32m    277\u001b[0m     extract_cookies_to_jar(\u001b[38;5;28mself\u001b[39m\u001b[38;5;241m.\u001b[39mcookies, prepared_request, resp\u001b[38;5;241m.\u001b[39mraw)\n\u001b[0;32m    279\u001b[0m     \u001b[38;5;66;03m# extract redirect url, if any, for the next loop\u001b[39;00m\n",
      "File \u001b[1;32m~\\makeaiwork2\\env\\lib\\site-packages\\requests\\sessions.py:701\u001b[0m, in \u001b[0;36mSession.send\u001b[1;34m(self, request, **kwargs)\u001b[0m\n\u001b[0;32m    698\u001b[0m start \u001b[38;5;241m=\u001b[39m preferred_clock()\n\u001b[0;32m    700\u001b[0m \u001b[38;5;66;03m# Send the request\u001b[39;00m\n\u001b[1;32m--> 701\u001b[0m r \u001b[38;5;241m=\u001b[39m adapter\u001b[38;5;241m.\u001b[39msend(request, \u001b[38;5;241m*\u001b[39m\u001b[38;5;241m*\u001b[39mkwargs)\n\u001b[0;32m    703\u001b[0m \u001b[38;5;66;03m# Total elapsed time of the request (approximately)\u001b[39;00m\n\u001b[0;32m    704\u001b[0m elapsed \u001b[38;5;241m=\u001b[39m preferred_clock() \u001b[38;5;241m-\u001b[39m start\n",
      "File \u001b[1;32m~\\makeaiwork2\\env\\lib\\site-packages\\requests\\adapters.py:489\u001b[0m, in \u001b[0;36mHTTPAdapter.send\u001b[1;34m(self, request, stream, timeout, verify, cert, proxies)\u001b[0m\n\u001b[0;32m    487\u001b[0m \u001b[38;5;28;01mtry\u001b[39;00m:\n\u001b[0;32m    488\u001b[0m     \u001b[38;5;28;01mif\u001b[39;00m \u001b[38;5;129;01mnot\u001b[39;00m chunked:\n\u001b[1;32m--> 489\u001b[0m         resp \u001b[38;5;241m=\u001b[39m \u001b[43mconn\u001b[49m\u001b[38;5;241;43m.\u001b[39;49m\u001b[43murlopen\u001b[49m\u001b[43m(\u001b[49m\n\u001b[0;32m    490\u001b[0m \u001b[43m            \u001b[49m\u001b[43mmethod\u001b[49m\u001b[38;5;241;43m=\u001b[39;49m\u001b[43mrequest\u001b[49m\u001b[38;5;241;43m.\u001b[39;49m\u001b[43mmethod\u001b[49m\u001b[43m,\u001b[49m\n\u001b[0;32m    491\u001b[0m \u001b[43m            \u001b[49m\u001b[43murl\u001b[49m\u001b[38;5;241;43m=\u001b[39;49m\u001b[43murl\u001b[49m\u001b[43m,\u001b[49m\n\u001b[0;32m    492\u001b[0m \u001b[43m            \u001b[49m\u001b[43mbody\u001b[49m\u001b[38;5;241;43m=\u001b[39;49m\u001b[43mrequest\u001b[49m\u001b[38;5;241;43m.\u001b[39;49m\u001b[43mbody\u001b[49m\u001b[43m,\u001b[49m\n\u001b[0;32m    493\u001b[0m \u001b[43m            \u001b[49m\u001b[43mheaders\u001b[49m\u001b[38;5;241;43m=\u001b[39;49m\u001b[43mrequest\u001b[49m\u001b[38;5;241;43m.\u001b[39;49m\u001b[43mheaders\u001b[49m\u001b[43m,\u001b[49m\n\u001b[0;32m    494\u001b[0m \u001b[43m            \u001b[49m\u001b[43mredirect\u001b[49m\u001b[38;5;241;43m=\u001b[39;49m\u001b[38;5;28;43;01mFalse\u001b[39;49;00m\u001b[43m,\u001b[49m\n\u001b[0;32m    495\u001b[0m \u001b[43m            \u001b[49m\u001b[43massert_same_host\u001b[49m\u001b[38;5;241;43m=\u001b[39;49m\u001b[38;5;28;43;01mFalse\u001b[39;49;00m\u001b[43m,\u001b[49m\n\u001b[0;32m    496\u001b[0m \u001b[43m            \u001b[49m\u001b[43mpreload_content\u001b[49m\u001b[38;5;241;43m=\u001b[39;49m\u001b[38;5;28;43;01mFalse\u001b[39;49;00m\u001b[43m,\u001b[49m\n\u001b[0;32m    497\u001b[0m \u001b[43m            \u001b[49m\u001b[43mdecode_content\u001b[49m\u001b[38;5;241;43m=\u001b[39;49m\u001b[38;5;28;43;01mFalse\u001b[39;49;00m\u001b[43m,\u001b[49m\n\u001b[0;32m    498\u001b[0m \u001b[43m            \u001b[49m\u001b[43mretries\u001b[49m\u001b[38;5;241;43m=\u001b[39;49m\u001b[38;5;28;43mself\u001b[39;49m\u001b[38;5;241;43m.\u001b[39;49m\u001b[43mmax_retries\u001b[49m\u001b[43m,\u001b[49m\n\u001b[0;32m    499\u001b[0m \u001b[43m            \u001b[49m\u001b[43mtimeout\u001b[49m\u001b[38;5;241;43m=\u001b[39;49m\u001b[43mtimeout\u001b[49m\u001b[43m,\u001b[49m\n\u001b[0;32m    500\u001b[0m \u001b[43m        \u001b[49m\u001b[43m)\u001b[49m\n\u001b[0;32m    502\u001b[0m     \u001b[38;5;66;03m# Send the request.\u001b[39;00m\n\u001b[0;32m    503\u001b[0m     \u001b[38;5;28;01melse\u001b[39;00m:\n\u001b[0;32m    504\u001b[0m         \u001b[38;5;28;01mif\u001b[39;00m \u001b[38;5;28mhasattr\u001b[39m(conn, \u001b[38;5;124m\"\u001b[39m\u001b[38;5;124mproxy_pool\u001b[39m\u001b[38;5;124m\"\u001b[39m):\n",
      "File \u001b[1;32m~\\makeaiwork2\\env\\lib\\site-packages\\urllib3\\connectionpool.py:703\u001b[0m, in \u001b[0;36mHTTPConnectionPool.urlopen\u001b[1;34m(self, method, url, body, headers, retries, redirect, assert_same_host, timeout, pool_timeout, release_conn, chunked, body_pos, **response_kw)\u001b[0m\n\u001b[0;32m    700\u001b[0m     \u001b[38;5;28mself\u001b[39m\u001b[38;5;241m.\u001b[39m_prepare_proxy(conn)\n\u001b[0;32m    702\u001b[0m \u001b[38;5;66;03m# Make the request on the httplib connection object.\u001b[39;00m\n\u001b[1;32m--> 703\u001b[0m httplib_response \u001b[38;5;241m=\u001b[39m \u001b[38;5;28;43mself\u001b[39;49m\u001b[38;5;241;43m.\u001b[39;49m\u001b[43m_make_request\u001b[49m\u001b[43m(\u001b[49m\n\u001b[0;32m    704\u001b[0m \u001b[43m    \u001b[49m\u001b[43mconn\u001b[49m\u001b[43m,\u001b[49m\n\u001b[0;32m    705\u001b[0m \u001b[43m    \u001b[49m\u001b[43mmethod\u001b[49m\u001b[43m,\u001b[49m\n\u001b[0;32m    706\u001b[0m \u001b[43m    \u001b[49m\u001b[43murl\u001b[49m\u001b[43m,\u001b[49m\n\u001b[0;32m    707\u001b[0m \u001b[43m    \u001b[49m\u001b[43mtimeout\u001b[49m\u001b[38;5;241;43m=\u001b[39;49m\u001b[43mtimeout_obj\u001b[49m\u001b[43m,\u001b[49m\n\u001b[0;32m    708\u001b[0m \u001b[43m    \u001b[49m\u001b[43mbody\u001b[49m\u001b[38;5;241;43m=\u001b[39;49m\u001b[43mbody\u001b[49m\u001b[43m,\u001b[49m\n\u001b[0;32m    709\u001b[0m \u001b[43m    \u001b[49m\u001b[43mheaders\u001b[49m\u001b[38;5;241;43m=\u001b[39;49m\u001b[43mheaders\u001b[49m\u001b[43m,\u001b[49m\n\u001b[0;32m    710\u001b[0m \u001b[43m    \u001b[49m\u001b[43mchunked\u001b[49m\u001b[38;5;241;43m=\u001b[39;49m\u001b[43mchunked\u001b[49m\u001b[43m,\u001b[49m\n\u001b[0;32m    711\u001b[0m \u001b[43m\u001b[49m\u001b[43m)\u001b[49m\n\u001b[0;32m    713\u001b[0m \u001b[38;5;66;03m# If we're going to release the connection in ``finally:``, then\u001b[39;00m\n\u001b[0;32m    714\u001b[0m \u001b[38;5;66;03m# the response doesn't need to know about the connection. Otherwise\u001b[39;00m\n\u001b[0;32m    715\u001b[0m \u001b[38;5;66;03m# it will also try to release it and we'll have a double-release\u001b[39;00m\n\u001b[0;32m    716\u001b[0m \u001b[38;5;66;03m# mess.\u001b[39;00m\n\u001b[0;32m    717\u001b[0m response_conn \u001b[38;5;241m=\u001b[39m conn \u001b[38;5;28;01mif\u001b[39;00m \u001b[38;5;129;01mnot\u001b[39;00m release_conn \u001b[38;5;28;01melse\u001b[39;00m \u001b[38;5;28;01mNone\u001b[39;00m\n",
      "File \u001b[1;32m~\\makeaiwork2\\env\\lib\\site-packages\\urllib3\\connectionpool.py:449\u001b[0m, in \u001b[0;36mHTTPConnectionPool._make_request\u001b[1;34m(self, conn, method, url, timeout, chunked, **httplib_request_kw)\u001b[0m\n\u001b[0;32m    444\u001b[0m             httplib_response \u001b[38;5;241m=\u001b[39m conn\u001b[38;5;241m.\u001b[39mgetresponse()\n\u001b[0;32m    445\u001b[0m         \u001b[38;5;28;01mexcept\u001b[39;00m \u001b[38;5;167;01mBaseException\u001b[39;00m \u001b[38;5;28;01mas\u001b[39;00m e:\n\u001b[0;32m    446\u001b[0m             \u001b[38;5;66;03m# Remove the TypeError from the exception chain in\u001b[39;00m\n\u001b[0;32m    447\u001b[0m             \u001b[38;5;66;03m# Python 3 (including for exceptions like SystemExit).\u001b[39;00m\n\u001b[0;32m    448\u001b[0m             \u001b[38;5;66;03m# Otherwise it looks like a bug in the code.\u001b[39;00m\n\u001b[1;32m--> 449\u001b[0m             \u001b[43msix\u001b[49m\u001b[38;5;241;43m.\u001b[39;49m\u001b[43mraise_from\u001b[49m\u001b[43m(\u001b[49m\u001b[43me\u001b[49m\u001b[43m,\u001b[49m\u001b[43m \u001b[49m\u001b[38;5;28;43;01mNone\u001b[39;49;00m\u001b[43m)\u001b[49m\n\u001b[0;32m    450\u001b[0m \u001b[38;5;28;01mexcept\u001b[39;00m (SocketTimeout, BaseSSLError, SocketError) \u001b[38;5;28;01mas\u001b[39;00m e:\n\u001b[0;32m    451\u001b[0m     \u001b[38;5;28mself\u001b[39m\u001b[38;5;241m.\u001b[39m_raise_timeout(err\u001b[38;5;241m=\u001b[39me, url\u001b[38;5;241m=\u001b[39murl, timeout_value\u001b[38;5;241m=\u001b[39mread_timeout)\n",
      "File \u001b[1;32m<string>:3\u001b[0m, in \u001b[0;36mraise_from\u001b[1;34m(value, from_value)\u001b[0m\n",
      "File \u001b[1;32m~\\makeaiwork2\\env\\lib\\site-packages\\urllib3\\connectionpool.py:444\u001b[0m, in \u001b[0;36mHTTPConnectionPool._make_request\u001b[1;34m(self, conn, method, url, timeout, chunked, **httplib_request_kw)\u001b[0m\n\u001b[0;32m    441\u001b[0m \u001b[38;5;28;01mexcept\u001b[39;00m \u001b[38;5;167;01mTypeError\u001b[39;00m:\n\u001b[0;32m    442\u001b[0m     \u001b[38;5;66;03m# Python 3\u001b[39;00m\n\u001b[0;32m    443\u001b[0m     \u001b[38;5;28;01mtry\u001b[39;00m:\n\u001b[1;32m--> 444\u001b[0m         httplib_response \u001b[38;5;241m=\u001b[39m \u001b[43mconn\u001b[49m\u001b[38;5;241;43m.\u001b[39;49m\u001b[43mgetresponse\u001b[49m\u001b[43m(\u001b[49m\u001b[43m)\u001b[49m\n\u001b[0;32m    445\u001b[0m     \u001b[38;5;28;01mexcept\u001b[39;00m \u001b[38;5;167;01mBaseException\u001b[39;00m \u001b[38;5;28;01mas\u001b[39;00m e:\n\u001b[0;32m    446\u001b[0m         \u001b[38;5;66;03m# Remove the TypeError from the exception chain in\u001b[39;00m\n\u001b[0;32m    447\u001b[0m         \u001b[38;5;66;03m# Python 3 (including for exceptions like SystemExit).\u001b[39;00m\n\u001b[0;32m    448\u001b[0m         \u001b[38;5;66;03m# Otherwise it looks like a bug in the code.\u001b[39;00m\n\u001b[0;32m    449\u001b[0m         six\u001b[38;5;241m.\u001b[39mraise_from(e, \u001b[38;5;28;01mNone\u001b[39;00m)\n",
      "File \u001b[1;32m~\\AppData\\Local\\Programs\\Python\\Python310\\lib\\http\\client.py:1374\u001b[0m, in \u001b[0;36mHTTPConnection.getresponse\u001b[1;34m(self)\u001b[0m\n\u001b[0;32m   1372\u001b[0m \u001b[38;5;28;01mtry\u001b[39;00m:\n\u001b[0;32m   1373\u001b[0m     \u001b[38;5;28;01mtry\u001b[39;00m:\n\u001b[1;32m-> 1374\u001b[0m         \u001b[43mresponse\u001b[49m\u001b[38;5;241;43m.\u001b[39;49m\u001b[43mbegin\u001b[49m\u001b[43m(\u001b[49m\u001b[43m)\u001b[49m\n\u001b[0;32m   1375\u001b[0m     \u001b[38;5;28;01mexcept\u001b[39;00m \u001b[38;5;167;01mConnectionError\u001b[39;00m:\n\u001b[0;32m   1376\u001b[0m         \u001b[38;5;28mself\u001b[39m\u001b[38;5;241m.\u001b[39mclose()\n",
      "File \u001b[1;32m~\\AppData\\Local\\Programs\\Python\\Python310\\lib\\http\\client.py:318\u001b[0m, in \u001b[0;36mHTTPResponse.begin\u001b[1;34m(self)\u001b[0m\n\u001b[0;32m    316\u001b[0m \u001b[38;5;66;03m# read until we get a non-100 response\u001b[39;00m\n\u001b[0;32m    317\u001b[0m \u001b[38;5;28;01mwhile\u001b[39;00m \u001b[38;5;28;01mTrue\u001b[39;00m:\n\u001b[1;32m--> 318\u001b[0m     version, status, reason \u001b[38;5;241m=\u001b[39m \u001b[38;5;28;43mself\u001b[39;49m\u001b[38;5;241;43m.\u001b[39;49m\u001b[43m_read_status\u001b[49m\u001b[43m(\u001b[49m\u001b[43m)\u001b[49m\n\u001b[0;32m    319\u001b[0m     \u001b[38;5;28;01mif\u001b[39;00m status \u001b[38;5;241m!=\u001b[39m CONTINUE:\n\u001b[0;32m    320\u001b[0m         \u001b[38;5;28;01mbreak\u001b[39;00m\n",
      "File \u001b[1;32m~\\AppData\\Local\\Programs\\Python\\Python310\\lib\\http\\client.py:279\u001b[0m, in \u001b[0;36mHTTPResponse._read_status\u001b[1;34m(self)\u001b[0m\n\u001b[0;32m    278\u001b[0m \u001b[38;5;28;01mdef\u001b[39;00m \u001b[38;5;21m_read_status\u001b[39m(\u001b[38;5;28mself\u001b[39m):\n\u001b[1;32m--> 279\u001b[0m     line \u001b[38;5;241m=\u001b[39m \u001b[38;5;28mstr\u001b[39m(\u001b[38;5;28;43mself\u001b[39;49m\u001b[38;5;241;43m.\u001b[39;49m\u001b[43mfp\u001b[49m\u001b[38;5;241;43m.\u001b[39;49m\u001b[43mreadline\u001b[49m\u001b[43m(\u001b[49m\u001b[43m_MAXLINE\u001b[49m\u001b[43m \u001b[49m\u001b[38;5;241;43m+\u001b[39;49m\u001b[43m \u001b[49m\u001b[38;5;241;43m1\u001b[39;49m\u001b[43m)\u001b[49m, \u001b[38;5;124m\"\u001b[39m\u001b[38;5;124miso-8859-1\u001b[39m\u001b[38;5;124m\"\u001b[39m)\n\u001b[0;32m    280\u001b[0m     \u001b[38;5;28;01mif\u001b[39;00m \u001b[38;5;28mlen\u001b[39m(line) \u001b[38;5;241m>\u001b[39m _MAXLINE:\n\u001b[0;32m    281\u001b[0m         \u001b[38;5;28;01mraise\u001b[39;00m LineTooLong(\u001b[38;5;124m\"\u001b[39m\u001b[38;5;124mstatus line\u001b[39m\u001b[38;5;124m\"\u001b[39m)\n",
      "File \u001b[1;32m~\\AppData\\Local\\Programs\\Python\\Python310\\lib\\socket.py:705\u001b[0m, in \u001b[0;36mSocketIO.readinto\u001b[1;34m(self, b)\u001b[0m\n\u001b[0;32m    703\u001b[0m \u001b[38;5;28;01mwhile\u001b[39;00m \u001b[38;5;28;01mTrue\u001b[39;00m:\n\u001b[0;32m    704\u001b[0m     \u001b[38;5;28;01mtry\u001b[39;00m:\n\u001b[1;32m--> 705\u001b[0m         \u001b[38;5;28;01mreturn\u001b[39;00m \u001b[38;5;28;43mself\u001b[39;49m\u001b[38;5;241;43m.\u001b[39;49m\u001b[43m_sock\u001b[49m\u001b[38;5;241;43m.\u001b[39;49m\u001b[43mrecv_into\u001b[49m\u001b[43m(\u001b[49m\u001b[43mb\u001b[49m\u001b[43m)\u001b[49m\n\u001b[0;32m    706\u001b[0m     \u001b[38;5;28;01mexcept\u001b[39;00m timeout:\n\u001b[0;32m    707\u001b[0m         \u001b[38;5;28mself\u001b[39m\u001b[38;5;241m.\u001b[39m_timeout_occurred \u001b[38;5;241m=\u001b[39m \u001b[38;5;28;01mTrue\u001b[39;00m\n",
      "File \u001b[1;32m~\\AppData\\Local\\Programs\\Python\\Python310\\lib\\ssl.py:1274\u001b[0m, in \u001b[0;36mSSLSocket.recv_into\u001b[1;34m(self, buffer, nbytes, flags)\u001b[0m\n\u001b[0;32m   1270\u001b[0m     \u001b[38;5;28;01mif\u001b[39;00m flags \u001b[38;5;241m!=\u001b[39m \u001b[38;5;241m0\u001b[39m:\n\u001b[0;32m   1271\u001b[0m         \u001b[38;5;28;01mraise\u001b[39;00m \u001b[38;5;167;01mValueError\u001b[39;00m(\n\u001b[0;32m   1272\u001b[0m           \u001b[38;5;124m\"\u001b[39m\u001b[38;5;124mnon-zero flags not allowed in calls to recv_into() on \u001b[39m\u001b[38;5;132;01m%s\u001b[39;00m\u001b[38;5;124m\"\u001b[39m \u001b[38;5;241m%\u001b[39m\n\u001b[0;32m   1273\u001b[0m           \u001b[38;5;28mself\u001b[39m\u001b[38;5;241m.\u001b[39m\u001b[38;5;18m__class__\u001b[39m)\n\u001b[1;32m-> 1274\u001b[0m     \u001b[38;5;28;01mreturn\u001b[39;00m \u001b[38;5;28;43mself\u001b[39;49m\u001b[38;5;241;43m.\u001b[39;49m\u001b[43mread\u001b[49m\u001b[43m(\u001b[49m\u001b[43mnbytes\u001b[49m\u001b[43m,\u001b[49m\u001b[43m \u001b[49m\u001b[43mbuffer\u001b[49m\u001b[43m)\u001b[49m\n\u001b[0;32m   1275\u001b[0m \u001b[38;5;28;01melse\u001b[39;00m:\n\u001b[0;32m   1276\u001b[0m     \u001b[38;5;28;01mreturn\u001b[39;00m \u001b[38;5;28msuper\u001b[39m()\u001b[38;5;241m.\u001b[39mrecv_into(buffer, nbytes, flags)\n",
      "File \u001b[1;32m~\\AppData\\Local\\Programs\\Python\\Python310\\lib\\ssl.py:1130\u001b[0m, in \u001b[0;36mSSLSocket.read\u001b[1;34m(self, len, buffer)\u001b[0m\n\u001b[0;32m   1128\u001b[0m \u001b[38;5;28;01mtry\u001b[39;00m:\n\u001b[0;32m   1129\u001b[0m     \u001b[38;5;28;01mif\u001b[39;00m buffer \u001b[38;5;129;01mis\u001b[39;00m \u001b[38;5;129;01mnot\u001b[39;00m \u001b[38;5;28;01mNone\u001b[39;00m:\n\u001b[1;32m-> 1130\u001b[0m         \u001b[38;5;28;01mreturn\u001b[39;00m \u001b[38;5;28;43mself\u001b[39;49m\u001b[38;5;241;43m.\u001b[39;49m\u001b[43m_sslobj\u001b[49m\u001b[38;5;241;43m.\u001b[39;49m\u001b[43mread\u001b[49m\u001b[43m(\u001b[49m\u001b[38;5;28;43mlen\u001b[39;49m\u001b[43m,\u001b[49m\u001b[43m \u001b[49m\u001b[43mbuffer\u001b[49m\u001b[43m)\u001b[49m\n\u001b[0;32m   1131\u001b[0m     \u001b[38;5;28;01melse\u001b[39;00m:\n\u001b[0;32m   1132\u001b[0m         \u001b[38;5;28;01mreturn\u001b[39;00m \u001b[38;5;28mself\u001b[39m\u001b[38;5;241m.\u001b[39m_sslobj\u001b[38;5;241m.\u001b[39mread(\u001b[38;5;28mlen\u001b[39m)\n",
      "\u001b[1;31mKeyboardInterrupt\u001b[0m: "
     ]
    }
   ],
   "source": [
    "import requests\n",
    "from requests.auth import HTTPBasicAuth \n",
    "import json\n",
    "import urllib.parse\n",
    "from bs4 import BeautifulSoup\n",
    "from csv import writer\n",
    "import re\n",
    "authParams = HTTPBasicAuth('info@bladi.shop', 'Fouadinou1@')\n",
    "\n",
    "with open('web.csv', 'w', encoding='utf-8-sig', newline='') as f:\n",
    "    thewriter = writer(f)\n",
    "    header = [\"Title\", 'Category', 'Merk', 'Artikelnummer', 'Specs',  \"Diameter\",\"Lengte\", \"Draaduitvoering\",\"Model kop\",\"Aandrijvingstype\",\"Aandrijvingsmaat\",\"Kopdiameter\",\"Wokkel\",\"Gewicht per 100 stuks\",\"PLU-nummer\",\"EAN/GTIN\", \"Price\"]\n",
    "    thewriter.writerow(header)\n",
    "    title = []\n",
    "    for link in product_links:\n",
    "        driver.get(link)\n",
    "        payload = {'reports[]':'pageviews', 'reports[]':'searches','from':'Nov 19 2022', 'to':'Nov 20 2022' }\n",
    "        response = requests.get(link,params=payload, auth =authParams ) \n",
    "        soup = BeautifulSoup(response.content, 'lxml')\n",
    "        price_ = soup_.find_all('span', {'class':\"price\"})\n",
    "        if price_ != '€ 0':\n",
    "\n",
    "            # Title\n",
    "            Title = soup.find('h1', class_='product-detail__variant__details__title').text.strip()\n",
    "\n",
    "            #Omschrijving\n",
    "            Omschrijving = soup.find('div', class_=\"container container--small\").text.strip().replace(\",\", \"-\")\n",
    "\n",
    "            #Specs\n",
    "            # specs1 = soup.find('table', class_=\"specs-table product-detail__table\").text.strip().replace(\"\\n\", \"<br>\")\n",
    "            # specs = soup.find('table', class_=\"specs-table product-detail__table\").text.strip()\n",
    "\n",
    "\n",
    "            details = soup.find('div', class_=\"product-detail__variant__details__info\").text.strip()\n",
    "            details = details.split()\n",
    "\n",
    "            #Categorie\n",
    "            cat = Title.split(\" \")\n",
    "            Categorie = cat[0]\n",
    "\n",
    "            #Merk\n",
    "            Merk = details[2]\n",
    "\n",
    "            #Artikelnummer\n",
    "            Artikelnummer =  details[5]\n",
    "\n",
    "            # print(\"Diameter \",specs[len(\"Diameter:\"):specs.find(\"mm\")])\n",
    "            # print(\"Lengte \",specs[len(\"Lengte:\"):2])\n",
    "\n",
    "            #Diameter\n",
    "            # col_1_split = specs.split(\"\\n\")[0].split(\":\")\n",
    "            # col_1_key = col_1_split[0]\n",
    "            # col_1_value = col_1_split[1]\n",
    "            # if any(chr.isdigit() for chr in col_1_value) == True:\n",
    "            #     col_1_value = re.findall(r'\\d+',  col_1_value)\n",
    "            #     if len(col_1_value) > 1:\n",
    "            #          col_1_value = int( col_1_value[0]) + (int( col_1_value[1])/10)\n",
    "            #     else:\n",
    "            #          col_1_value =  col_1_value[0]\n",
    "            # print(col_1_key, col_1_value)\n",
    "\n",
    "            #specs \n",
    "            table_length = len(specs.split(\"\\n\"))\n",
    "            table = specs.split(\"\\n\")\n",
    "            specifications = []\n",
    "            for x in table:\n",
    "                col_x_split = x.split(':')\n",
    "                col_x_key = col_x_split[0]\n",
    "                col_x_value = col_x_split[1]\n",
    "                if col_x_key == \"Diameter\" or col_x_key == \"Lengte\" or col_x_key == \"Draaduitvoering\" or col_x_key == \"Model kop\" or col_x_key == \"Aandrijvingstype\" or col_x_key == \"Aandrijvingsmaat\" or col_x_key == \"Kopdiameter\" or col_x_key == \"Wokkel\"  or col_x_key == \"Gewicht per 100 stuks\" or col_x_key == \"PLU-nummer\" or col_x_key == \"EAN/GTIN\":\n",
    "                    if col_x_value:\n",
    "                        if any(chr.isdigit() for chr in col_x_value) == True:\n",
    "                            col_x_value = re.findall(r'\\d+',  col_x_value)\n",
    "                            if len(col_x_value) > 1:\n",
    "                                 col_x_value = int( col_x_value[0]) + (int( col_x_value[1])/10)\n",
    "                            else:\n",
    "                                 col_x_value =  col_x_value[0]\n",
    "                        else:\n",
    "                            col_x_value =  col_x_value                        \n",
    "                    elif not col_x_value:\n",
    "                        col_x_value =  \"None\"\n",
    "                    specifications.append(col_x_value)\n",
    "\n",
    "            html = driver.page_source\n",
    "            soup_ = BeautifulSoup(html, 'html.parser')\n",
    "\n",
    "            time.sleep(1)\n",
    "            pricelijst = soup_.find_all('span', {'class':\"price\"})\n",
    "            price = [] \n",
    "            for i in pricelijst:\n",
    "                price.append(i.text)\n",
    "\n",
    "        else:\n",
    "            pass\n",
    "\n",
    "        info = [Title, Categorie, Merk, Artikelnummer, specs1] +specifications + price\n",
    "        thewriter.writerow(info)   \n",
    "        print(info)\n",
    "\n",
    "\n",
    "\n",
    "\n",
    "        # print(diameter, lengte, Draaduitvoering, Model_kop, Aandrijvingstype, Aandrijvingsmaat, Kopdiameter, Wokkel, PLU_nummer, EAN)\n",
    "\n",
    "        # details = details.split()\n",
    "        # merk = details[2]\n",
    "        # artikelnummer =  details[5]\n",
    "        print(\"-\")\n",
    "        # last_ind =details.rfind(details[-1])+1\n",
    "        # categorie = details[0:17]\n",
    "        # merk = details[26:37].strip()\n",
    "        # artikelnummer =details[46:last_ind]\n",
    "\n"
   ]
  },
  {
   "cell_type": "code",
   "execution_count": null,
   "id": "807fad59-d113-449e-9150-6afdf387cef3",
   "metadata": {},
   "outputs": [],
   "source": [
    "html = driver.page_source"
   ]
  },
  {
   "cell_type": "code",
   "execution_count": null,
   "id": "e8221e33-8669-47ad-9532-86702cff9891",
   "metadata": {},
   "outputs": [],
   "source": [
    "soup = BeautifulSoup(html, 'html.parser')"
   ]
  },
  {
   "cell_type": "code",
   "execution_count": null,
   "id": "656bc80f-3d4e-4da2-a8db-fe340167944a",
   "metadata": {
    "tags": []
   },
   "outputs": [],
   "source": [
    "import requests\n",
    "pricelijst = soup.find_all('span', {'class':\"item-price\"})\n",
    "for i in pricelijst:\n",
    "    print( i.text)\n",
    "\n",
    "\n",
    "\n",
    "# for x in range (1, 2):\n",
    "#     r = requests.get(f'https://www.hoenderdaal-fasteners.nl/nl-nl/producten/schroeven/houtbouwschroeven?PageNum={x}')\n",
    "#     soup = BeautifulSoup(r.content, 'lxml')\n",
    "\n",
    "\n",
    "#     productlist = soup.find_all('h3', class_='item-name')\n",
    "\n",
    "#     for item in productlist:\n",
    "#         for link in item.find_all('a', href=True):\n",
    "#             print(link['href'])\n",
    "#             productlinks.append(link['href'])\n",
    "\n",
    "\n"
   ]
  },
  {
   "cell_type": "code",
   "execution_count": null,
   "id": "52bbd946-c797-42fc-91dd-4b8f11c63d18",
   "metadata": {},
   "outputs": [],
   "source": []
  },
  {
   "cell_type": "code",
   "execution_count": null,
   "id": "b2f82dc7-8c36-42c1-bcbc-2ef56c466824",
   "metadata": {},
   "outputs": [],
   "source": []
  },
  {
   "cell_type": "code",
   "execution_count": null,
   "id": "21b5bbc8-e794-4051-8f2c-1a647f266254",
   "metadata": {},
   "outputs": [],
   "source": []
  }
 ],
 "metadata": {
  "kernelspec": {
   "display_name": "Python 3 (ipykernel)",
   "language": "python",
   "name": "python3"
  },
  "language_info": {
   "codemirror_mode": {
    "name": "ipython",
    "version": 3
   },
   "file_extension": ".py",
   "mimetype": "text/x-python",
   "name": "python",
   "nbconvert_exporter": "python",
   "pygments_lexer": "ipython3",
   "version": "3.10.6"
  }
 },
 "nbformat": 4,
 "nbformat_minor": 5
}
