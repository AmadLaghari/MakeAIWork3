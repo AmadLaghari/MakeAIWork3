{
  "nbformat": 4,
  "nbformat_minor": 0,
  "metadata": {
    "colab": {
      "provenance": []
    },
    "kernelspec": {
      "name": "python3",
      "display_name": "Python 3"
    },
    "language_info": {
      "name": "python"
    },
    "accelerator": "GPU",
    "gpuClass": "standard"
  },
  "cells": [
    {
      "cell_type": "markdown",
      "source": [
        "**<h1>DATA SCIENCE 2/3 SEMI-AUTO** \n"
      ],
      "metadata": {
        "id": "XkCHH09sq1Az"
      }
    },
    {
      "cell_type": "markdown",
      "source": [
        "<h1>Training ManualML Medische Data"
      ],
      "metadata": {
        "id": "gPo6Gd4FFU5D"
      }
    },
    {
      "cell_type": "markdown",
      "source": [
        "<h3> Install dependencies"
      ],
      "metadata": {
        "id": "T2dTIInhFazD"
      }
    },
    {
      "cell_type": "code",
      "source": [
        "!pip install h2o"
      ],
      "metadata": {
        "colab": {
          "base_uri": "https://localhost:8080/"
        },
        "id": "BPJFMcxqT9Rx",
        "outputId": "36702b12-2502-4583-84f9-fdd18b9055f7"
      },
      "execution_count": null,
      "outputs": [
        {
          "output_type": "stream",
          "name": "stdout",
          "text": [
            "Looking in indexes: https://pypi.org/simple, https://us-python.pkg.dev/colab-wheels/public/simple/\n",
            "Collecting h2o\n",
            "  Downloading h2o-3.38.0.3.tar.gz (177.5 MB)\n",
            "\u001b[K     |████████████████████████████████| 177.5 MB 40 kB/s \n",
            "\u001b[?25hRequirement already satisfied: requests in /usr/local/lib/python3.8/dist-packages (from h2o) (2.23.0)\n",
            "Requirement already satisfied: tabulate in /usr/local/lib/python3.8/dist-packages (from h2o) (0.8.10)\n",
            "Requirement already satisfied: future in /usr/local/lib/python3.8/dist-packages (from h2o) (0.16.0)\n",
            "Requirement already satisfied: idna<3,>=2.5 in /usr/local/lib/python3.8/dist-packages (from requests->h2o) (2.10)\n",
            "Requirement already satisfied: urllib3!=1.25.0,!=1.25.1,<1.26,>=1.21.1 in /usr/local/lib/python3.8/dist-packages (from requests->h2o) (1.24.3)\n",
            "Requirement already satisfied: certifi>=2017.4.17 in /usr/local/lib/python3.8/dist-packages (from requests->h2o) (2022.9.24)\n",
            "Requirement already satisfied: chardet<4,>=3.0.2 in /usr/local/lib/python3.8/dist-packages (from requests->h2o) (3.0.4)\n",
            "Building wheels for collected packages: h2o\n",
            "  Building wheel for h2o (setup.py) ... \u001b[?25l\u001b[?25hdone\n",
            "  Created wheel for h2o: filename=h2o-3.38.0.3-py2.py3-none-any.whl size=177541401 sha256=1f232a89cadb82d03fd7a03a65cf51ca4cdbdc6dcc093a51538e1aaf01379d3f\n",
            "  Stored in directory: /root/.cache/pip/wheels/16/f8/f4/69e1ff6a0d1cb61bdbc0d9888ee8437a1acf1eb1c6ffb8be20\n",
            "Successfully built h2o\n",
            "Installing collected packages: h2o\n",
            "Successfully installed h2o-3.38.0.3\n"
          ]
        }
      ]
    },
    {
      "cell_type": "markdown",
      "source": [
        "<h3> Import Libraries"
      ],
      "metadata": {
        "id": "Szse1moQFd0Z"
      }
    },
    {
      "cell_type": "code",
      "source": [
        "import h2o\n",
        "from h2o.estimators import H2OGradientBoostingEstimator, H2ORandomForestEstimator\n",
        "from google.colab import drive\n",
        "import pandas as pd\n",
        "\n",
        "drive.mount('/content/gdrive')"
      ],
      "metadata": {
        "colab": {
          "base_uri": "https://localhost:8080/"
        },
        "id": "zaeNz4miV2tX",
        "outputId": "6a2f78a3-428f-440c-e057-199244c9df4c"
      },
      "execution_count": null,
      "outputs": [
        {
          "output_type": "stream",
          "name": "stdout",
          "text": [
            "Mounted at /content/gdrive\n"
          ]
        }
      ]
    },
    {
      "cell_type": "markdown",
      "source": [
        "<h3> Initialize H2O"
      ],
      "metadata": {
        "id": "eX5R7kCTFgoz"
      }
    },
    {
      "cell_type": "code",
      "source": [
        "h2o.init()"
      ],
      "metadata": {
        "colab": {
          "base_uri": "https://localhost:8080/",
          "height": 537
        },
        "id": "x2ZTU_dNV7_x",
        "outputId": "207e8717-31f7-4c0a-e13c-c02c6ebae188"
      },
      "execution_count": null,
      "outputs": [
        {
          "output_type": "stream",
          "name": "stdout",
          "text": [
            "Checking whether there is an H2O instance running at http://localhost:54321 ..... not found.\n",
            "Attempting to start a local H2O server...\n",
            "  Java Version: openjdk version \"11.0.17\" 2022-10-18; OpenJDK Runtime Environment (build 11.0.17+8-post-Ubuntu-1ubuntu218.04); OpenJDK 64-Bit Server VM (build 11.0.17+8-post-Ubuntu-1ubuntu218.04, mixed mode, sharing)\n",
            "  Starting server from /usr/local/lib/python3.8/dist-packages/h2o/backend/bin/h2o.jar\n",
            "  Ice root: /tmp/tmpx4dxlebn\n",
            "  JVM stdout: /tmp/tmpx4dxlebn/h2o_unknownUser_started_from_python.out\n",
            "  JVM stderr: /tmp/tmpx4dxlebn/h2o_unknownUser_started_from_python.err\n",
            "  Server is running at http://127.0.0.1:54321\n",
            "Connecting to H2O server at http://127.0.0.1:54321 ... successful.\n"
          ]
        },
        {
          "output_type": "display_data",
          "data": {
            "text/plain": [
              "--------------------------  ----------------------------------\n",
              "H2O_cluster_uptime:         02 secs\n",
              "H2O_cluster_timezone:       Etc/UTC\n",
              "H2O_data_parsing_timezone:  UTC\n",
              "H2O_cluster_version:        3.38.0.3\n",
              "H2O_cluster_version_age:    22 days\n",
              "H2O_cluster_name:           H2O_from_python_unknownUser_0df4kt\n",
              "H2O_cluster_total_nodes:    1\n",
              "H2O_cluster_free_memory:    3.172 Gb\n",
              "H2O_cluster_total_cores:    2\n",
              "H2O_cluster_allowed_cores:  2\n",
              "H2O_cluster_status:         locked, healthy\n",
              "H2O_connection_url:         http://127.0.0.1:54321\n",
              "H2O_connection_proxy:       {\"http\": null, \"https\": null}\n",
              "H2O_internal_security:      False\n",
              "Python_version:             3.8.16 final\n",
              "--------------------------  ----------------------------------"
            ],
            "text/html": [
              "\n",
              "<style>\n",
              "\n",
              "#h2o-table-1.h2o-container {\n",
              "  overflow-x: auto;\n",
              "}\n",
              "#h2o-table-1 .h2o-table {\n",
              "  /* width: 100%; */\n",
              "  margin-top: 1em;\n",
              "  margin-bottom: 1em;\n",
              "}\n",
              "#h2o-table-1 .h2o-table caption {\n",
              "  white-space: nowrap;\n",
              "  caption-side: top;\n",
              "  text-align: left;\n",
              "  /* margin-left: 1em; */\n",
              "  margin: 0;\n",
              "  font-size: larger;\n",
              "}\n",
              "#h2o-table-1 .h2o-table thead {\n",
              "  white-space: nowrap; \n",
              "  position: sticky;\n",
              "  top: 0;\n",
              "  box-shadow: 0 -1px inset;\n",
              "}\n",
              "#h2o-table-1 .h2o-table tbody {\n",
              "  overflow: auto;\n",
              "}\n",
              "#h2o-table-1 .h2o-table th,\n",
              "#h2o-table-1 .h2o-table td {\n",
              "  text-align: right;\n",
              "  /* border: 1px solid; */\n",
              "}\n",
              "#h2o-table-1 .h2o-table tr:nth-child(even) {\n",
              "  /* background: #F5F5F5 */\n",
              "}\n",
              "\n",
              "</style>      \n",
              "<div id=\"h2o-table-1\" class=\"h2o-container\">\n",
              "  <table class=\"h2o-table\">\n",
              "    <caption></caption>\n",
              "    <thead></thead>\n",
              "    <tbody><tr><td>H2O_cluster_uptime:</td>\n",
              "<td>02 secs</td></tr>\n",
              "<tr><td>H2O_cluster_timezone:</td>\n",
              "<td>Etc/UTC</td></tr>\n",
              "<tr><td>H2O_data_parsing_timezone:</td>\n",
              "<td>UTC</td></tr>\n",
              "<tr><td>H2O_cluster_version:</td>\n",
              "<td>3.38.0.3</td></tr>\n",
              "<tr><td>H2O_cluster_version_age:</td>\n",
              "<td>22 days </td></tr>\n",
              "<tr><td>H2O_cluster_name:</td>\n",
              "<td>H2O_from_python_unknownUser_0df4kt</td></tr>\n",
              "<tr><td>H2O_cluster_total_nodes:</td>\n",
              "<td>1</td></tr>\n",
              "<tr><td>H2O_cluster_free_memory:</td>\n",
              "<td>3.172 Gb</td></tr>\n",
              "<tr><td>H2O_cluster_total_cores:</td>\n",
              "<td>2</td></tr>\n",
              "<tr><td>H2O_cluster_allowed_cores:</td>\n",
              "<td>2</td></tr>\n",
              "<tr><td>H2O_cluster_status:</td>\n",
              "<td>locked, healthy</td></tr>\n",
              "<tr><td>H2O_connection_url:</td>\n",
              "<td>http://127.0.0.1:54321</td></tr>\n",
              "<tr><td>H2O_connection_proxy:</td>\n",
              "<td>{\"http\": null, \"https\": null}</td></tr>\n",
              "<tr><td>H2O_internal_security:</td>\n",
              "<td>False</td></tr>\n",
              "<tr><td>Python_version:</td>\n",
              "<td>3.8.16 final</td></tr></tbody>\n",
              "  </table>\n",
              "</div>\n"
            ]
          },
          "metadata": {}
        }
      ]
    },
    {
      "cell_type": "markdown",
      "source": [
        "<h3> Load data"
      ],
      "metadata": {
        "id": "8s4W0bPmFncq"
      }
    },
    {
      "cell_type": "code",
      "source": [
        "data= \"/content/gdrive/My Drive/Datasets/Medische_dataset/medisch-centrum-randstad.csv\"\n",
        "data = pd.read_csv(data)\n",
        "# Convert dataframe into H2O\n",
        "data = h2o.H2OFrame(data)"
      ],
      "metadata": {
        "colab": {
          "base_uri": "https://localhost:8080/"
        },
        "id": "NLHPYiCsV_Bl",
        "outputId": "89d6b401-f840-4b96-95c2-30a3c57ffa8d"
      },
      "execution_count": null,
      "outputs": [
        {
          "output_type": "stream",
          "name": "stdout",
          "text": [
            "Parse progress: |████████████████████████████████████████████████████████████████| (done) 100%\n"
          ]
        }
      ]
    },
    {
      "cell_type": "markdown",
      "source": [
        "<h3>Data Split"
      ],
      "metadata": {
        "id": "Dfd28OKtFwxZ"
      }
    },
    {
      "cell_type": "code",
      "source": [
        "# Split data into training and validation sets\n",
        "train, valid = data.split_frame(ratios=[0.8])"
      ],
      "metadata": {
        "id": "utbXhw02WCZI"
      },
      "execution_count": null,
      "outputs": []
    },
    {
      "cell_type": "markdown",
      "source": [
        "<h3>Define list of base models"
      ],
      "metadata": {
        "id": "JsfuKQSvF3mx"
      }
    },
    {
      "cell_type": "code",
      "source": [
        "base_models = [\n",
        "    H2OGradientBoostingEstimator(ntrees=100, max_depth=4),\n",
        "    H2ORandomForestEstimator(ntrees=100, max_depth=4)\n",
        "]"
      ],
      "metadata": {
        "id": "9y9m5STEWF3f"
      },
      "execution_count": null,
      "outputs": []
    },
    {
      "cell_type": "markdown",
      "source": [
        "<H3> Train base models on the training set"
      ],
      "metadata": {
        "id": "7SSJ4GR-F_-J"
      }
    },
    {
      "cell_type": "code",
      "execution_count": null,
      "metadata": {
        "colab": {
          "base_uri": "https://localhost:8080/"
        },
        "id": "JU_l2QIlTiW9",
        "outputId": "ca26546a-73b7-478e-ba92-4cdc6d6e8162"
      },
      "outputs": [
        {
          "output_type": "stream",
          "name": "stdout",
          "text": [
            "gbm Model Build progress: |██████████████████████████████████████████████████████| (done) 100%\n",
            "drf Model Build progress: |██████████████████████████████████████████████████████| (done) 100%\n"
          ]
        }
      ],
      "source": [
        "for model in base_models:\n",
        "    model.train(x=[\"genetic\", \"length\", \"mass\", \"exercise\", \"smoking\", \"alcohol\", \"sugar\"], y=\"lifespan\", training_frame=train)"
      ]
    },
    {
      "cell_type": "markdown",
      "source": [
        "<h4> Predict val Data"
      ],
      "metadata": {
        "id": "RZvPFfZuGOYS"
      }
    },
    {
      "cell_type": "code",
      "source": [
        "from h2o.frame import H2OFrame\n",
        "# Generate predictions on the validation set using each base model\n",
        "preds = [model.predict(valid) for model in base_models]\n",
        "\n",
        "# Combine the predictions from the base models using a simple average\n",
        "ensemble_preds = H2OFrame.round(sum(preds) / len(preds), digits = 0)\n"
      ],
      "metadata": {
        "colab": {
          "base_uri": "https://localhost:8080/"
        },
        "id": "1U7BEGX2WL_b",
        "outputId": "55015ef8-012d-4219-ba02-af262e423a6a"
      },
      "execution_count": null,
      "outputs": [
        {
          "output_type": "stream",
          "name": "stdout",
          "text": [
            "gbm prediction progress: |███████████████████████████████████████████████████████| (done) 100%\n",
            "drf prediction progress: |███████████████████████████████████████████████████████| (done) 100%\n"
          ]
        }
      ]
    },
    {
      "cell_type": "code",
      "source": [
        "print(ensemble_preds.names)\n",
        "print(valid[\"lifespan\"].names)"
      ],
      "metadata": {
        "colab": {
          "base_uri": "https://localhost:8080/"
        },
        "id": "j2ogVZ78Wnl9",
        "outputId": "cfd54781-4e64-4d2a-9083-de1fbf8adb34"
      },
      "execution_count": null,
      "outputs": [
        {
          "output_type": "stream",
          "name": "stdout",
          "text": [
            "['predict']\n",
            "['lifespan']\n"
          ]
        }
      ]
    },
    {
      "cell_type": "code",
      "source": [
        "# Concatenate the predictions H2OFrame with the validation H2OFrame\n",
        "ensemble_preds = ensemble_preds.cbind(valid[\"lifespan\"])\n",
        "print(ensemble_preds)\n",
        "\n",
        "# print(ensemble_preds.cbind(valid[\"lifespan\"]))\n",
        "# Evaluate the accuracy of the stacked ensemble model\n",
        "ensemble_acc = (ensemble_preds[\"predict\"] == ensemble_preds[\"lifespan\"]).mean()\n",
        "print(f\"mean: {ensemble_acc}\")\n"
      ],
      "metadata": {
        "colab": {
          "base_uri": "https://localhost:8080/"
        },
        "id": "7sOjVY7oVFAC",
        "outputId": "05bf9d75-1f8b-4dd2-fcb8-d36b738f0531"
      },
      "execution_count": null,
      "outputs": [
        {
          "output_type": "stream",
          "name": "stdout",
          "text": [
            "  predict    lifespan\n",
            "       74          69\n",
            "       73          66\n",
            "       65          64\n",
            "       90          92\n",
            "       79          75\n",
            "       74          77\n",
            "       70          70\n",
            "       86          86\n",
            "       69          71\n",
            "       73          66\n",
            "[827 rows x 2 columns]\n",
            "\n",
            "mean: [0.1003627569528416]\n"
          ]
        }
      ]
    },
    {
      "cell_type": "markdown",
      "source": [
        "<h3> Visualization"
      ],
      "metadata": {
        "id": "zVKqOUwHGUJp"
      }
    },
    {
      "cell_type": "code",
      "source": [
        "import matplotlib.pyplot as plt\n",
        "\n",
        "# Extract the values from the H2OFrame objects\n",
        "predictions = ensemble_preds[\"predict\"].as_data_frame()\n",
        "actual = ensemble_preds[\"lifespan\"].as_data_frame()\n",
        "\n",
        "# Create a scatter plot of the predictions and actual values\n",
        "plt.scatter(predictions, actual)\n",
        "plt.xlabel(\"Predictions\")\n",
        "plt.ylabel(\"Actual\")\n",
        "plt.show()\n"
      ],
      "metadata": {
        "colab": {
          "base_uri": "https://localhost:8080/",
          "height": 279
        },
        "id": "muCeTyxMkazn",
        "outputId": "a368c6aa-6c4d-4829-a9a1-294af25aa906"
      },
      "execution_count": null,
      "outputs": [
        {
          "output_type": "display_data",
          "data": {
            "text/plain": [
              "<Figure size 432x288 with 1 Axes>"
            ],
            "image/png": "[encoded data removed]"
          },
          "metadata": {
            "needs_background": "light"
          }
        }
      ]
    },
    {
      "cell_type": "markdown",
      "source": [
        "<h3> Save Model"
      ],
      "metadata": {
        "id": "lTdw9n7eGo2r"
      }
    },
    {
      "cell_type": "code",
      "source": [
        "h2o.save_model(model, \"/content/gdrive/My Drive/Datasets/Medische_dataset/Medische_data_model_Manual.h2o\")"
      ],
      "metadata": {
        "colab": {
          "base_uri": "https://localhost:8080/",
          "height": 36
        },
        "id": "WWXwAnCaGs8V",
        "outputId": "8060fa22-5eec-42bf-999c-778f792376b6"
      },
      "execution_count": null,
      "outputs": [
        {
          "output_type": "execute_result",
          "data": {
            "text/plain": [
              "'/content/gdrive/My Drive/Datasets/Medische_dataset/Medische_data_model_Manual.h2o/DRF_model_python_1671191447151_2'"
            ],
            "application/vnd.google.colaboratory.intrinsic+json": {
              "type": "string"
            }
          },
          "metadata": {},
          "execution_count": 13
        }
      ]
    }
  ]
}