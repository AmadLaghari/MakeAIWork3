{
 "cells": [
  {
   "cell_type": "markdown",
   "id": "6ab111a7",
   "metadata": {},
   "source": [
    "# Oefenen met Pandas"
   ]
  },
  {
   "attachments": {
    "konfu.jpg": {
     "image/jpeg": "[encoded data removed]"
    }
   },
   "cell_type": "markdown",
   "id": "95cfbdf5",
   "metadata": {},
   "source": [
    "![konfu.jpg](attachment:konfu.jpg)"
   ]
  },
  {
   "cell_type": "markdown",
   "id": "e9a382ca",
   "metadata": {},
   "source": [
    "## Bron"
   ]
  },
  {
   "cell_type": "markdown",
   "id": "a3abb365",
   "metadata": {},
   "source": [
    "De Comodity Prices dataset komt van Kaggle:\n",
    "\n",
    "https://www.kaggle.com/datasets/elmoallistair/commodity-prices-19602021"
   ]
  },
  {
   "cell_type": "markdown",
   "id": "4b2020fa",
   "metadata": {},
   "source": [
    "## Beschrijving"
   ]
  },
  {
   "cell_type": "markdown",
   "id": "e8f895e9",
   "metadata": {},
   "source": [
    "De dataset bevat de gemiddelde jaarprijs van **30** grondstoffen tussen **1960-2021**."
   ]
  },
  {
   "cell_type": "markdown",
   "id": "ca07e995",
   "metadata": {},
   "source": [
    "## Opdracht 1: inlezen"
   ]
  },
  {
   "cell_type": "markdown",
   "id": "6ac7f686",
   "metadata": {},
   "source": [
    "Lees de Comodity Prices dataset in."
   ]
  },
  {
   "cell_type": "code",
   "execution_count": 162,
   "id": "69b52636-b40b-4897-921a-e7f56a3c5ff1",
   "metadata": {},
   "outputs": [
    {
     "name": "stdout",
     "output_type": "stream",
     "text": [
      "Requirement already satisfied: openpyxl in c:\\users\\amad_\\makeaiwork2\\env\\lib\\site-packages (3.0.10)\n",
      "Requirement already satisfied: et-xmlfile in c:\\users\\amad_\\makeaiwork2\\env\\lib\\site-packages (from openpyxl) (1.1.0)\n"
     ]
    }
   ],
   "source": [
    "! pip install openpyxl"
   ]
  },
  {
   "cell_type": "code",
   "execution_count": 163,
   "id": "9541d5ed-97d0-475f-a0f4-971cd7a1a9a2",
   "metadata": {},
   "outputs": [],
   "source": [
    "import pandas as pd\n",
    "import openpyxl\n",
    "import matplotlib.pyplot as plt"
   ]
  },
  {
   "cell_type": "code",
   "execution_count": 164,
   "id": "1061e72c",
   "metadata": {},
   "outputs": [
    {
     "name": "stdout",
     "output_type": "stream",
     "text": [
      "    Year  Cocoa  Coffee   Tea  Crude Oil    Coal  Natural Gas  Banana  Sugar  \\\n",
      "0   1960   0.59    0.92  1.03       1.63     NaN         0.14    0.14   0.07   \n",
      "1   1961   0.48    0.90  0.95       1.57     NaN         0.15    0.13   0.06   \n",
      "2   1962   0.46    0.83  0.97       1.52     NaN         0.16    0.13   0.06   \n",
      "3   1963   0.55    0.81  0.95       1.50     NaN         0.16    0.14   0.18   \n",
      "4   1964   0.51    1.01  0.93       1.45     NaN         0.15    0.17   0.13   \n",
      "..   ...    ...     ...   ...        ...     ...          ...     ...    ...   \n",
      "57  2017   2.03    3.32  3.15      52.81   88.52         2.96    1.08   0.35   \n",
      "58  2018   2.29    2.93  2.85      68.35  107.02         3.16    1.15   0.28   \n",
      "59  2019   2.34    2.88  2.56      61.41   77.89         2.57    1.14   0.28   \n",
      "60  2020   2.37    3.32  2.70      41.26   60.79         2.01    1.22   0.28   \n",
      "61  2021   2.43    4.51  2.69      69.07  138.05         3.85    1.21   0.39   \n",
      "\n",
      "    Orange  ...  Silver  Cotton  Rubber  Tobacco  Coconut Oil  Groundnut Oil  \\\n",
      "0     0.13  ...    0.91    0.65    0.78  1736.87       312.33         327.00   \n",
      "1     0.13  ...    0.92    0.67    0.60  1563.19       253.42         330.25   \n",
      "2     0.11  ...    1.08    0.65    0.56  1404.90       251.22         274.34   \n",
      "3     0.09  ...    1.28    0.65    0.52  1343.61       286.33         268.50   \n",
      "4     0.08  ...    1.29    0.65    0.49  1488.30       296.48         315.38   \n",
      "..     ...  ...     ...     ...     ...      ...          ...            ...   \n",
      "57    0.81  ...   17.07    1.84    2.00  4627.36      1650.65        1460.79   \n",
      "58    0.79  ...   15.71    2.01    1.57  4865.96       996.77        1446.05   \n",
      "59    0.56  ...   16.22    1.72    1.64  4579.36       735.65        1407.37   \n",
      "60    0.60  ...   20.54    1.59    1.73  4336.28      1010.40        1697.81   \n",
      "61    0.65  ...   25.16    2.23    2.07  4154.74      1636.31        2075.09   \n",
      "\n",
      "    Palm Oil  Soybean    Logs  Sawnwood  \n",
      "0     224.42   223.92   31.94    149.17  \n",
      "1     228.42   287.33   33.06    151.98  \n",
      "2     216.24   227.00   36.39    160.06  \n",
      "3     222.39   223.58   35.49    157.85  \n",
      "4     239.45   233.00   30.26    144.83  \n",
      "..       ...      ...     ...       ...  \n",
      "57    750.81   850.40  265.43    702.11  \n",
      "58    638.66   789.12  269.70    727.94  \n",
      "59    601.37   765.44  273.10    695.89  \n",
      "60    751.77   837.76  278.94    699.71  \n",
      "61   1130.58  1385.41  271.35    749.95  \n",
      "\n",
      "[62 rows x 31 columns]\n"
     ]
    }
   ],
   "source": [
    "# Read csv file\n",
    "df = pd.read_csv('data/commodity_prices.csv')\n",
    "print(df)\n",
    "# ..."
   ]
  },
  {
   "cell_type": "markdown",
   "id": "8df80553",
   "metadata": {},
   "source": [
    "## Opdracht 2: exploreren"
   ]
  },
  {
   "cell_type": "markdown",
   "id": "fedbfb8e",
   "metadata": {},
   "source": [
    "Welke kolommen bevat deze dataset?"
   ]
  },
  {
   "cell_type": "code",
   "execution_count": 165,
   "id": "a48ca413",
   "metadata": {},
   "outputs": [
    {
     "data": {
      "text/plain": [
       "Index(['Year', 'Cocoa', 'Coffee', 'Tea', 'Crude Oil', 'Coal', 'Natural Gas',\n",
       "       'Banana', 'Sugar', 'Orange', 'Barley', 'Maize', 'Sorghum', 'Rice',\n",
       "       'Wheat', 'Beef', 'Chicken', 'Lamb', 'Shrimps', 'Gold', 'Platinum',\n",
       "       'Silver', 'Cotton', 'Rubber', 'Tobacco', 'Coconut Oil', 'Groundnut Oil',\n",
       "       'Palm Oil', 'Soybean', 'Logs', 'Sawnwood'],\n",
       "      dtype='object')"
      ]
     },
     "execution_count": 165,
     "metadata": {},
     "output_type": "execute_result"
    }
   ],
   "source": [
    "# Print info\n",
    "df.columns[0:31]\n",
    "# ..."
   ]
  },
  {
   "cell_type": "markdown",
   "id": "2232ba53",
   "metadata": {},
   "source": [
    "Welk datatype heeft elke kolom?"
   ]
  },
  {
   "cell_type": "code",
   "execution_count": 166,
   "id": "35b57822",
   "metadata": {},
   "outputs": [
    {
     "data": {
      "text/plain": [
       "str"
      ]
     },
     "execution_count": 166,
     "metadata": {},
     "output_type": "execute_result"
    }
   ],
   "source": [
    "# Beschrijf datatype\n",
    "type(df.columns[0])\n",
    "# ..."
   ]
  },
  {
   "cell_type": "markdown",
   "id": "9cabd3d0",
   "metadata": {},
   "source": [
    "Wat is de gemiddelde prijs voor ruwe olie over de jaren?"
   ]
  },
  {
   "cell_type": "code",
   "execution_count": 167,
   "id": "191bc37e",
   "metadata": {},
   "outputs": [
    {
     "name": "stdout",
     "output_type": "stream",
     "text": [
      "30.891451612903218\n"
     ]
    }
   ],
   "source": [
    "# Zoek in de Pandas documentatie een geschikte functie\n",
    "# Hint: https://pandas.pydata.org/docs/reference/series.html\n",
    "co_price = df['Crude Oil'].values\n",
    "co_price_array = []\n",
    "for x in co_price:\n",
    "    co_price_array.append(x)\n",
    "total_price_crued_oil = sum(co_price_array) / len(co_price_array)\n",
    "print(total_price_crued_oil)\n",
    "# ...\n",
    "\n",
    "# Voer deze functie uit op het veld 'Crude Oil' en print het resultaat\n",
    "\n",
    "# ..."
   ]
  },
  {
   "cell_type": "markdown",
   "id": "9e0f0b53",
   "metadata": {},
   "source": [
    "Wanneer was de olieprijs op zijn hoogst? En op zijn laagst?"
   ]
  },
  {
   "cell_type": "code",
   "execution_count": 168,
   "id": "af49fd42",
   "metadata": {},
   "outputs": [
    {
     "name": "stdout",
     "output_type": "stream",
     "text": [
      "1.21\n",
      "105.01\n",
      "Index of the lowest price of crued oil is  [10] in the year 1970\n",
      "Index of the highest price of crued oil is  [52] in the year 2012\n"
     ]
    }
   ],
   "source": [
    "# Print highest and lowest price\n",
    "co_lowest_price = df['Crude Oil']\n",
    "print(co_lowest_price.min())\n",
    "# ...\n",
    "co_highest_price = df['Crude Oil']\n",
    "print(co_highest_price.max())\n",
    "# Print het jaar van de hoogste en laagste prijs\n",
    "print(\"Index of the lowest price of crued oil is \",df[df[\"Crude Oil\"]==co_lowest_price.min()].index.values, \"in the year\", df[\"Year\"][10]\n",
    ")\n",
    "# ...\n",
    "print(\"Index of the highest price of crued oil is \",df[df[\"Crude Oil\"]==co_highest_price.max()].index.values, \"in the year\", df[\"Year\"][52]\n",
    ")"
   ]
  },
  {
   "cell_type": "markdown",
   "id": "1d4fb04d",
   "metadata": {},
   "source": [
    "Net als SQL kan Pandas ook queries uitvoeren en filteren.\n",
    "\n",
    "Zoek alle jaren waarin de olieprijs tussen 50 en 80 dollar was."
   ]
  },
  {
   "cell_type": "code",
   "execution_count": 169,
   "id": "1f7bb51f",
   "metadata": {},
   "outputs": [
    {
     "name": "stdout",
     "output_type": "stream",
     "text": [
      "Year index 45    2005\n",
      "46    2006\n",
      "47    2007\n",
      "49    2009\n",
      "50    2010\n",
      "55    2015\n",
      "57    2017\n",
      "58    2018\n",
      "59    2019\n",
      "61    2021\n",
      "Name: Year, dtype: int64\n"
     ]
    }
   ],
   "source": [
    "import numpy as np\n",
    "# Hint: filter jaren waar de prijs tussen 50 en 80 was\n",
    "ftl_50_80 = (df['Crude Oil'] > 50) & (df['Crude Oil'] < 80)\n",
    "# print(ftl_50_80.values)\n",
    "\n",
    "\n",
    "list_years = np.where(ftl_50_80.values == True)\n",
    "\n",
    "for x in list_years:\n",
    "    true_years = df[\"Year\"][x]\n",
    "    print(\"Year index\", true_years)\n",
    "    \n",
    "\n",
    "# ..."
   ]
  },
  {
   "cell_type": "markdown",
   "id": "e97f2b0b",
   "metadata": {},
   "source": [
    "# Opdracht 4: samenstellen"
   ]
  },
  {
   "cell_type": "markdown",
   "id": "b01f34bf",
   "metadata": {},
   "source": [
    "Stel dat Nutella zou bestaan uit 50% cacao, 20% suiker, 5% mais en 25% kokosolie.\n",
    "\n",
    "Verder is gegeven:\n",
    "\n",
    "- voor deze grondstoffen is de prijs per kilogram\n",
    "- een pot bevat 800 gram Nutella\n",
    "\n",
    "Wat is dan de prijs voor een pot Nutella in elk jaar?"
   ]
  },
  {
   "cell_type": "code",
   "execution_count": 175,
   "id": "052ef2fa",
   "metadata": {},
   "outputs": [
    {
     "data": {
      "text/html": [
       "<div>\n",
       "<style scoped>\n",
       "    .dataframe tbody tr th:only-of-type {\n",
       "        vertical-align: middle;\n",
       "    }\n",
       "\n",
       "    .dataframe tbody tr th {\n",
       "        vertical-align: top;\n",
       "    }\n",
       "\n",
       "    .dataframe thead th {\n",
       "        text-align: right;\n",
       "    }\n",
       "</style>\n",
       "<table border=\"1\" class=\"dataframe\">\n",
       "  <thead>\n",
       "    <tr style=\"text-align: right;\">\n",
       "      <th></th>\n",
       "      <th>Year</th>\n",
       "      <th>Cocoa</th>\n",
       "      <th>Coffee</th>\n",
       "      <th>Tea</th>\n",
       "      <th>Crude Oil</th>\n",
       "      <th>Coal</th>\n",
       "      <th>Natural Gas</th>\n",
       "      <th>Banana</th>\n",
       "      <th>Sugar</th>\n",
       "      <th>Orange</th>\n",
       "      <th>...</th>\n",
       "      <th>Cotton</th>\n",
       "      <th>Rubber</th>\n",
       "      <th>Tobacco</th>\n",
       "      <th>Coconut Oil</th>\n",
       "      <th>Groundnut Oil</th>\n",
       "      <th>Palm Oil</th>\n",
       "      <th>Soybean</th>\n",
       "      <th>Logs</th>\n",
       "      <th>Sawnwood</th>\n",
       "      <th>Nutella</th>\n",
       "    </tr>\n",
       "  </thead>\n",
       "  <tbody>\n",
       "    <tr>\n",
       "      <th>0</th>\n",
       "      <td>1960</td>\n",
       "      <td>0.59</td>\n",
       "      <td>0.92</td>\n",
       "      <td>1.03</td>\n",
       "      <td>1.63</td>\n",
       "      <td>NaN</td>\n",
       "      <td>0.14</td>\n",
       "      <td>0.14</td>\n",
       "      <td>0.07</td>\n",
       "      <td>0.13</td>\n",
       "      <td>...</td>\n",
       "      <td>0.65</td>\n",
       "      <td>0.78</td>\n",
       "      <td>1736.87</td>\n",
       "      <td>312.33</td>\n",
       "      <td>327.00</td>\n",
       "      <td>224.42</td>\n",
       "      <td>223.92</td>\n",
       "      <td>31.94</td>\n",
       "      <td>149.17</td>\n",
       "      <td>64.48</td>\n",
       "    </tr>\n",
       "    <tr>\n",
       "      <th>1</th>\n",
       "      <td>1961</td>\n",
       "      <td>0.48</td>\n",
       "      <td>0.90</td>\n",
       "      <td>0.95</td>\n",
       "      <td>1.57</td>\n",
       "      <td>NaN</td>\n",
       "      <td>0.15</td>\n",
       "      <td>0.13</td>\n",
       "      <td>0.06</td>\n",
       "      <td>0.13</td>\n",
       "      <td>...</td>\n",
       "      <td>0.67</td>\n",
       "      <td>0.60</td>\n",
       "      <td>1563.19</td>\n",
       "      <td>253.42</td>\n",
       "      <td>330.25</td>\n",
       "      <td>228.42</td>\n",
       "      <td>287.33</td>\n",
       "      <td>33.06</td>\n",
       "      <td>151.98</td>\n",
       "      <td>52.67</td>\n",
       "    </tr>\n",
       "    <tr>\n",
       "      <th>2</th>\n",
       "      <td>1962</td>\n",
       "      <td>0.46</td>\n",
       "      <td>0.83</td>\n",
       "      <td>0.97</td>\n",
       "      <td>1.52</td>\n",
       "      <td>NaN</td>\n",
       "      <td>0.16</td>\n",
       "      <td>0.13</td>\n",
       "      <td>0.06</td>\n",
       "      <td>0.11</td>\n",
       "      <td>...</td>\n",
       "      <td>0.65</td>\n",
       "      <td>0.56</td>\n",
       "      <td>1404.90</td>\n",
       "      <td>251.22</td>\n",
       "      <td>274.34</td>\n",
       "      <td>216.24</td>\n",
       "      <td>227.00</td>\n",
       "      <td>36.39</td>\n",
       "      <td>160.06</td>\n",
       "      <td>52.37</td>\n",
       "    </tr>\n",
       "    <tr>\n",
       "      <th>3</th>\n",
       "      <td>1963</td>\n",
       "      <td>0.55</td>\n",
       "      <td>0.81</td>\n",
       "      <td>0.95</td>\n",
       "      <td>1.50</td>\n",
       "      <td>NaN</td>\n",
       "      <td>0.16</td>\n",
       "      <td>0.14</td>\n",
       "      <td>0.18</td>\n",
       "      <td>0.09</td>\n",
       "      <td>...</td>\n",
       "      <td>0.65</td>\n",
       "      <td>0.52</td>\n",
       "      <td>1343.61</td>\n",
       "      <td>286.33</td>\n",
       "      <td>268.50</td>\n",
       "      <td>222.39</td>\n",
       "      <td>223.58</td>\n",
       "      <td>35.49</td>\n",
       "      <td>157.85</td>\n",
       "      <td>59.64</td>\n",
       "    </tr>\n",
       "    <tr>\n",
       "      <th>4</th>\n",
       "      <td>1964</td>\n",
       "      <td>0.51</td>\n",
       "      <td>1.01</td>\n",
       "      <td>0.93</td>\n",
       "      <td>1.45</td>\n",
       "      <td>NaN</td>\n",
       "      <td>0.15</td>\n",
       "      <td>0.17</td>\n",
       "      <td>0.13</td>\n",
       "      <td>0.08</td>\n",
       "      <td>...</td>\n",
       "      <td>0.65</td>\n",
       "      <td>0.49</td>\n",
       "      <td>1488.30</td>\n",
       "      <td>296.48</td>\n",
       "      <td>315.38</td>\n",
       "      <td>239.45</td>\n",
       "      <td>233.00</td>\n",
       "      <td>30.26</td>\n",
       "      <td>144.83</td>\n",
       "      <td>61.69</td>\n",
       "    </tr>\n",
       "    <tr>\n",
       "      <th>...</th>\n",
       "      <td>...</td>\n",
       "      <td>...</td>\n",
       "      <td>...</td>\n",
       "      <td>...</td>\n",
       "      <td>...</td>\n",
       "      <td>...</td>\n",
       "      <td>...</td>\n",
       "      <td>...</td>\n",
       "      <td>...</td>\n",
       "      <td>...</td>\n",
       "      <td>...</td>\n",
       "      <td>...</td>\n",
       "      <td>...</td>\n",
       "      <td>...</td>\n",
       "      <td>...</td>\n",
       "      <td>...</td>\n",
       "      <td>...</td>\n",
       "      <td>...</td>\n",
       "      <td>...</td>\n",
       "      <td>...</td>\n",
       "      <td>...</td>\n",
       "    </tr>\n",
       "    <tr>\n",
       "      <th>57</th>\n",
       "      <td>2017</td>\n",
       "      <td>2.03</td>\n",
       "      <td>3.32</td>\n",
       "      <td>3.15</td>\n",
       "      <td>52.81</td>\n",
       "      <td>88.52</td>\n",
       "      <td>2.96</td>\n",
       "      <td>1.08</td>\n",
       "      <td>0.35</td>\n",
       "      <td>0.81</td>\n",
       "      <td>...</td>\n",
       "      <td>1.84</td>\n",
       "      <td>2.00</td>\n",
       "      <td>4627.36</td>\n",
       "      <td>1650.65</td>\n",
       "      <td>1460.79</td>\n",
       "      <td>750.81</td>\n",
       "      <td>850.40</td>\n",
       "      <td>265.43</td>\n",
       "      <td>702.11</td>\n",
       "      <td>337.12</td>\n",
       "    </tr>\n",
       "    <tr>\n",
       "      <th>58</th>\n",
       "      <td>2018</td>\n",
       "      <td>2.29</td>\n",
       "      <td>2.93</td>\n",
       "      <td>2.85</td>\n",
       "      <td>68.35</td>\n",
       "      <td>107.02</td>\n",
       "      <td>3.16</td>\n",
       "      <td>1.15</td>\n",
       "      <td>0.28</td>\n",
       "      <td>0.79</td>\n",
       "      <td>...</td>\n",
       "      <td>2.01</td>\n",
       "      <td>1.57</td>\n",
       "      <td>4865.96</td>\n",
       "      <td>996.77</td>\n",
       "      <td>1446.05</td>\n",
       "      <td>638.66</td>\n",
       "      <td>789.12</td>\n",
       "      <td>269.70</td>\n",
       "      <td>727.94</td>\n",
       "      <td>206.85</td>\n",
       "    </tr>\n",
       "    <tr>\n",
       "      <th>59</th>\n",
       "      <td>2019</td>\n",
       "      <td>2.34</td>\n",
       "      <td>2.88</td>\n",
       "      <td>2.56</td>\n",
       "      <td>61.41</td>\n",
       "      <td>77.89</td>\n",
       "      <td>2.57</td>\n",
       "      <td>1.14</td>\n",
       "      <td>0.28</td>\n",
       "      <td>0.56</td>\n",
       "      <td>...</td>\n",
       "      <td>1.72</td>\n",
       "      <td>1.64</td>\n",
       "      <td>4579.36</td>\n",
       "      <td>735.65</td>\n",
       "      <td>1407.37</td>\n",
       "      <td>601.37</td>\n",
       "      <td>765.44</td>\n",
       "      <td>273.10</td>\n",
       "      <td>695.89</td>\n",
       "      <td>154.87</td>\n",
       "    </tr>\n",
       "    <tr>\n",
       "      <th>60</th>\n",
       "      <td>2020</td>\n",
       "      <td>2.37</td>\n",
       "      <td>3.32</td>\n",
       "      <td>2.70</td>\n",
       "      <td>41.26</td>\n",
       "      <td>60.79</td>\n",
       "      <td>2.01</td>\n",
       "      <td>1.22</td>\n",
       "      <td>0.28</td>\n",
       "      <td>0.60</td>\n",
       "      <td>...</td>\n",
       "      <td>1.59</td>\n",
       "      <td>1.73</td>\n",
       "      <td>4336.28</td>\n",
       "      <td>1010.40</td>\n",
       "      <td>1697.81</td>\n",
       "      <td>751.77</td>\n",
       "      <td>837.76</td>\n",
       "      <td>278.94</td>\n",
       "      <td>699.71</td>\n",
       "      <td>209.65</td>\n",
       "    </tr>\n",
       "    <tr>\n",
       "      <th>61</th>\n",
       "      <td>2021</td>\n",
       "      <td>2.43</td>\n",
       "      <td>4.51</td>\n",
       "      <td>2.69</td>\n",
       "      <td>69.07</td>\n",
       "      <td>138.05</td>\n",
       "      <td>3.85</td>\n",
       "      <td>1.21</td>\n",
       "      <td>0.39</td>\n",
       "      <td>0.65</td>\n",
       "      <td>...</td>\n",
       "      <td>2.23</td>\n",
       "      <td>2.07</td>\n",
       "      <td>4154.74</td>\n",
       "      <td>1636.31</td>\n",
       "      <td>2075.09</td>\n",
       "      <td>1130.58</td>\n",
       "      <td>1385.41</td>\n",
       "      <td>271.35</td>\n",
       "      <td>749.95</td>\n",
       "      <td>338.62</td>\n",
       "    </tr>\n",
       "  </tbody>\n",
       "</table>\n",
       "<p>62 rows × 32 columns</p>\n",
       "</div>"
      ],
      "text/plain": [
       "    Year  Cocoa  Coffee   Tea  Crude Oil    Coal  Natural Gas  Banana  Sugar  \\\n",
       "0   1960   0.59    0.92  1.03       1.63     NaN         0.14    0.14   0.07   \n",
       "1   1961   0.48    0.90  0.95       1.57     NaN         0.15    0.13   0.06   \n",
       "2   1962   0.46    0.83  0.97       1.52     NaN         0.16    0.13   0.06   \n",
       "3   1963   0.55    0.81  0.95       1.50     NaN         0.16    0.14   0.18   \n",
       "4   1964   0.51    1.01  0.93       1.45     NaN         0.15    0.17   0.13   \n",
       "..   ...    ...     ...   ...        ...     ...          ...     ...    ...   \n",
       "57  2017   2.03    3.32  3.15      52.81   88.52         2.96    1.08   0.35   \n",
       "58  2018   2.29    2.93  2.85      68.35  107.02         3.16    1.15   0.28   \n",
       "59  2019   2.34    2.88  2.56      61.41   77.89         2.57    1.14   0.28   \n",
       "60  2020   2.37    3.32  2.70      41.26   60.79         2.01    1.22   0.28   \n",
       "61  2021   2.43    4.51  2.69      69.07  138.05         3.85    1.21   0.39   \n",
       "\n",
       "    Orange  ...  Cotton  Rubber  Tobacco  Coconut Oil  Groundnut Oil  \\\n",
       "0     0.13  ...    0.65    0.78  1736.87       312.33         327.00   \n",
       "1     0.13  ...    0.67    0.60  1563.19       253.42         330.25   \n",
       "2     0.11  ...    0.65    0.56  1404.90       251.22         274.34   \n",
       "3     0.09  ...    0.65    0.52  1343.61       286.33         268.50   \n",
       "4     0.08  ...    0.65    0.49  1488.30       296.48         315.38   \n",
       "..     ...  ...     ...     ...      ...          ...            ...   \n",
       "57    0.81  ...    1.84    2.00  4627.36      1650.65        1460.79   \n",
       "58    0.79  ...    2.01    1.57  4865.96       996.77        1446.05   \n",
       "59    0.56  ...    1.72    1.64  4579.36       735.65        1407.37   \n",
       "60    0.60  ...    1.59    1.73  4336.28      1010.40        1697.81   \n",
       "61    0.65  ...    2.23    2.07  4154.74      1636.31        2075.09   \n",
       "\n",
       "    Palm Oil  Soybean    Logs  Sawnwood  Nutella  \n",
       "0     224.42   223.92   31.94    149.17    64.48  \n",
       "1     228.42   287.33   33.06    151.98    52.67  \n",
       "2     216.24   227.00   36.39    160.06    52.37  \n",
       "3     222.39   223.58   35.49    157.85    59.64  \n",
       "4     239.45   233.00   30.26    144.83    61.69  \n",
       "..       ...      ...     ...       ...      ...  \n",
       "57    750.81   850.40  265.43    702.11   337.12  \n",
       "58    638.66   789.12  269.70    727.94   206.85  \n",
       "59    601.37   765.44  273.10    695.89   154.87  \n",
       "60    751.77   837.76  278.94    699.71   209.65  \n",
       "61   1130.58  1385.41  271.35    749.95   338.62  \n",
       "\n",
       "[62 rows x 32 columns]"
      ]
     },
     "execution_count": 175,
     "metadata": {},
     "output_type": "execute_result"
    }
   ],
   "source": [
    "# Voeg een kolom 'Nutella' toe aan het DataFrame:\n",
    "\n",
    "# Year, price cacao, price suiker, price mais, price kokosolie\n",
    "# df[\"Year\"][:100]\n",
    "# total year indexes are 61\n",
    "# kolom ophalen + rij ophalen\n",
    "# cocoa_prijs = df[\"Cocoa\"]\n",
    "\n",
    "# sugar_price = []\n",
    "# for x in df[\"Sugar\"].values:\n",
    "#     sugarprice = (x / 1000000) * (800 * 0.5)\n",
    "#     sugarprice = round(sugarprice, 2)\n",
    "#     sugar_price.append(sugarprice)\n",
    "\n",
    "# cocoa_price = []\n",
    "# for x in df[\"Cocoa\"].values:\n",
    "#     cocoaprice = (x / 1000) * (800 * 0.2)\n",
    "#     cocoaprice = round(cocoaprice, 2)\n",
    "#     cocoa_price.append(cocoaprice)\n",
    "\n",
    "# maize_price= []\n",
    "# for x in df[\"Maize\"].values:\n",
    "#     maizeprice = (x / 1000) * (800 * 0.05)\n",
    "#     maizeprice = round(maizeprice, 2)\n",
    "#     maize_price.append(maizeprice)\n",
    "\n",
    "# cocooil_price= []\n",
    "# for x in df[\"Coconut Oil\"].values:\n",
    "#     cocooilprice = (x / 1000) * (800 * 0.25)\n",
    "#     cocooilprice = cocooilprice, 2)\n",
    "#     cocooil_price.append(cocooilprice)\n",
    "    \n",
    "\n",
    "# result_lt = [sum(i) for i in zip(sugar_price, cocoa_price, maize_price, cocooil_price )]  \n",
    "# print(result_lt)\n",
    "# cocoa_prijs.loc[0:0]\n",
    "\n",
    "\n",
    "df['Nutella'] = round((df['Cocoa'].multiply(0.5) + df['Sugar'].multiply(0.0001) + df['Maize'].multiply(0.05) + df['Coconut Oil'].multiply(0.25)).multiply(0.8), 2)\n",
    "\n",
    "\n",
    "  \n",
    "# Using 'Address' as the column name\n",
    "# and equating it to the list\n",
    "\n",
    "    \n",
    "df\n",
    "# Bereken de prijs voor een pot van 800 gram over de jaren heen:\n",
    "\n",
    "# ..."
   ]
  },
  {
   "cell_type": "markdown",
   "id": "2759a0e2",
   "metadata": {},
   "source": [
    "## Opdracht 4: aanvullen"
   ]
  },
  {
   "cell_type": "markdown",
   "id": "6a3708ef",
   "metadata": {},
   "source": [
    "Zoals je ziet, ontbreekt de data voor kolen.\n",
    "\n",
    "- Tussen welke jaartallen is dat?"
   ]
  },
  {
   "cell_type": "code",
   "execution_count": 230,
   "id": "713579a1",
   "metadata": {},
   "outputs": [
    {
     "data": {
      "text/plain": [
       "0    1960\n",
       "1    1961\n",
       "2    1962\n",
       "3    1963\n",
       "4    1964\n",
       "5    1965\n",
       "6    1966\n",
       "7    1967\n",
       "8    1968\n",
       "9    1969\n",
       "Name: Year, dtype: int64"
      ]
     },
     "execution_count": 230,
     "metadata": {},
     "output_type": "execute_result"
    }
   ],
   "source": [
    "# df['Coal'].values\n",
    "df[df['Coal'].isnull()].index.values\n",
    "df[\"Year\"][df[df['Coal'].isnull()].index.values]\n"
   ]
  },
  {
   "cell_type": "markdown",
   "id": "cf1defd4",
   "metadata": {},
   "source": [
    "Plot de data voor de grondstoffen."
   ]
  },
  {
   "cell_type": "code",
   "execution_count": 244,
   "id": "4fb9fc97",
   "metadata": {},
   "outputs": [
    {
     "data": {
      "text/plain": [
       "<AxesSubplot: xlabel='Year'>"
      ]
     },
     "execution_count": 244,
     "metadata": {},
     "output_type": "execute_result"
    },
    {
     "data": {
      "image/png": "[encoded data removed]",
      "text/plain": [
       "<Figure size 1500x600 with 1 Axes>"
      ]
     },
     "metadata": {},
     "output_type": "display_data"
    }
   ],
   "source": [
    "# Plot de data:\n",
    "\n",
    "df.plot(x=\"Year\", y=\"Coal\", figsize=(15,6))\n",
    "# ..."
   ]
  },
  {
   "cell_type": "markdown",
   "id": "b69f8582",
   "metadata": {},
   "source": [
    "Maak op basis van de aanwezige data een schatting van de ontbrekende waarden:\n",
    "\n",
    "1. Kun je op basis van de curve een schatting maken?\n",
    "2. Loopt de prijs van kolen op met een andere grondstof?\n",
    "3. Kun je die als schatting gebruiken?\n",
    "4. Vul de data aan in de set en sla de set op"
   ]
  },
  {
   "cell_type": "code",
   "execution_count": 255,
   "id": "64a2f44c",
   "metadata": {},
   "outputs": [
    {
     "name": "stdout",
     "output_type": "stream",
     "text": [
      "[5, 8, 5, 9, 8, 5, 7, 7, 5, 7]\n"
     ]
    },
    {
     "name": "stderr",
     "output_type": "stream",
     "text": [
      "C:\\Users\\amad_\\AppData\\Local\\Temp\\ipykernel_9144\\2483026437.py:17: SettingWithCopyWarning: \n",
      "A value is trying to be set on a copy of a slice from a DataFrame\n",
      "\n",
      "See the caveats in the documentation: https://pandas.pydata.org/pandas-docs/stable/user_guide/indexing.html#returning-a-view-versus-a-copy\n",
      "  df[\"Coal\"][:9] = random.sample(range(1, 10), 9)\n"
     ]
    },
    {
     "data": {
      "text/html": [
       "<div>\n",
       "<style scoped>\n",
       "    .dataframe tbody tr th:only-of-type {\n",
       "        vertical-align: middle;\n",
       "    }\n",
       "\n",
       "    .dataframe tbody tr th {\n",
       "        vertical-align: top;\n",
       "    }\n",
       "\n",
       "    .dataframe thead th {\n",
       "        text-align: right;\n",
       "    }\n",
       "</style>\n",
       "<table border=\"1\" class=\"dataframe\">\n",
       "  <thead>\n",
       "    <tr style=\"text-align: right;\">\n",
       "      <th></th>\n",
       "      <th>Year</th>\n",
       "      <th>Cocoa</th>\n",
       "      <th>Coffee</th>\n",
       "      <th>Tea</th>\n",
       "      <th>Crude Oil</th>\n",
       "      <th>Coal</th>\n",
       "      <th>Natural Gas</th>\n",
       "      <th>Banana</th>\n",
       "      <th>Sugar</th>\n",
       "      <th>Orange</th>\n",
       "      <th>...</th>\n",
       "      <th>Cotton</th>\n",
       "      <th>Rubber</th>\n",
       "      <th>Tobacco</th>\n",
       "      <th>Coconut Oil</th>\n",
       "      <th>Groundnut Oil</th>\n",
       "      <th>Palm Oil</th>\n",
       "      <th>Soybean</th>\n",
       "      <th>Logs</th>\n",
       "      <th>Sawnwood</th>\n",
       "      <th>Nutella</th>\n",
       "    </tr>\n",
       "  </thead>\n",
       "  <tbody>\n",
       "    <tr>\n",
       "      <th>0</th>\n",
       "      <td>1960</td>\n",
       "      <td>0.59</td>\n",
       "      <td>0.92</td>\n",
       "      <td>1.03</td>\n",
       "      <td>1.63</td>\n",
       "      <td>5.00</td>\n",
       "      <td>0.14</td>\n",
       "      <td>0.14</td>\n",
       "      <td>0.07</td>\n",
       "      <td>0.13</td>\n",
       "      <td>...</td>\n",
       "      <td>0.65</td>\n",
       "      <td>0.78</td>\n",
       "      <td>1736.87</td>\n",
       "      <td>312.33</td>\n",
       "      <td>327.00</td>\n",
       "      <td>224.42</td>\n",
       "      <td>223.92</td>\n",
       "      <td>31.94</td>\n",
       "      <td>149.17</td>\n",
       "      <td>64.48</td>\n",
       "    </tr>\n",
       "    <tr>\n",
       "      <th>1</th>\n",
       "      <td>1961</td>\n",
       "      <td>0.48</td>\n",
       "      <td>0.90</td>\n",
       "      <td>0.95</td>\n",
       "      <td>1.57</td>\n",
       "      <td>6.00</td>\n",
       "      <td>0.15</td>\n",
       "      <td>0.13</td>\n",
       "      <td>0.06</td>\n",
       "      <td>0.13</td>\n",
       "      <td>...</td>\n",
       "      <td>0.67</td>\n",
       "      <td>0.60</td>\n",
       "      <td>1563.19</td>\n",
       "      <td>253.42</td>\n",
       "      <td>330.25</td>\n",
       "      <td>228.42</td>\n",
       "      <td>287.33</td>\n",
       "      <td>33.06</td>\n",
       "      <td>151.98</td>\n",
       "      <td>52.67</td>\n",
       "    </tr>\n",
       "    <tr>\n",
       "      <th>2</th>\n",
       "      <td>1962</td>\n",
       "      <td>0.46</td>\n",
       "      <td>0.83</td>\n",
       "      <td>0.97</td>\n",
       "      <td>1.52</td>\n",
       "      <td>9.00</td>\n",
       "      <td>0.16</td>\n",
       "      <td>0.13</td>\n",
       "      <td>0.06</td>\n",
       "      <td>0.11</td>\n",
       "      <td>...</td>\n",
       "      <td>0.65</td>\n",
       "      <td>0.56</td>\n",
       "      <td>1404.90</td>\n",
       "      <td>251.22</td>\n",
       "      <td>274.34</td>\n",
       "      <td>216.24</td>\n",
       "      <td>227.00</td>\n",
       "      <td>36.39</td>\n",
       "      <td>160.06</td>\n",
       "      <td>52.37</td>\n",
       "    </tr>\n",
       "    <tr>\n",
       "      <th>3</th>\n",
       "      <td>1963</td>\n",
       "      <td>0.55</td>\n",
       "      <td>0.81</td>\n",
       "      <td>0.95</td>\n",
       "      <td>1.50</td>\n",
       "      <td>7.00</td>\n",
       "      <td>0.16</td>\n",
       "      <td>0.14</td>\n",
       "      <td>0.18</td>\n",
       "      <td>0.09</td>\n",
       "      <td>...</td>\n",
       "      <td>0.65</td>\n",
       "      <td>0.52</td>\n",
       "      <td>1343.61</td>\n",
       "      <td>286.33</td>\n",
       "      <td>268.50</td>\n",
       "      <td>222.39</td>\n",
       "      <td>223.58</td>\n",
       "      <td>35.49</td>\n",
       "      <td>157.85</td>\n",
       "      <td>59.64</td>\n",
       "    </tr>\n",
       "    <tr>\n",
       "      <th>4</th>\n",
       "      <td>1964</td>\n",
       "      <td>0.51</td>\n",
       "      <td>1.01</td>\n",
       "      <td>0.93</td>\n",
       "      <td>1.45</td>\n",
       "      <td>1.00</td>\n",
       "      <td>0.15</td>\n",
       "      <td>0.17</td>\n",
       "      <td>0.13</td>\n",
       "      <td>0.08</td>\n",
       "      <td>...</td>\n",
       "      <td>0.65</td>\n",
       "      <td>0.49</td>\n",
       "      <td>1488.30</td>\n",
       "      <td>296.48</td>\n",
       "      <td>315.38</td>\n",
       "      <td>239.45</td>\n",
       "      <td>233.00</td>\n",
       "      <td>30.26</td>\n",
       "      <td>144.83</td>\n",
       "      <td>61.69</td>\n",
       "    </tr>\n",
       "    <tr>\n",
       "      <th>...</th>\n",
       "      <td>...</td>\n",
       "      <td>...</td>\n",
       "      <td>...</td>\n",
       "      <td>...</td>\n",
       "      <td>...</td>\n",
       "      <td>...</td>\n",
       "      <td>...</td>\n",
       "      <td>...</td>\n",
       "      <td>...</td>\n",
       "      <td>...</td>\n",
       "      <td>...</td>\n",
       "      <td>...</td>\n",
       "      <td>...</td>\n",
       "      <td>...</td>\n",
       "      <td>...</td>\n",
       "      <td>...</td>\n",
       "      <td>...</td>\n",
       "      <td>...</td>\n",
       "      <td>...</td>\n",
       "      <td>...</td>\n",
       "      <td>...</td>\n",
       "    </tr>\n",
       "    <tr>\n",
       "      <th>57</th>\n",
       "      <td>2017</td>\n",
       "      <td>2.03</td>\n",
       "      <td>3.32</td>\n",
       "      <td>3.15</td>\n",
       "      <td>52.81</td>\n",
       "      <td>88.52</td>\n",
       "      <td>2.96</td>\n",
       "      <td>1.08</td>\n",
       "      <td>0.35</td>\n",
       "      <td>0.81</td>\n",
       "      <td>...</td>\n",
       "      <td>1.84</td>\n",
       "      <td>2.00</td>\n",
       "      <td>4627.36</td>\n",
       "      <td>1650.65</td>\n",
       "      <td>1460.79</td>\n",
       "      <td>750.81</td>\n",
       "      <td>850.40</td>\n",
       "      <td>265.43</td>\n",
       "      <td>702.11</td>\n",
       "      <td>337.12</td>\n",
       "    </tr>\n",
       "    <tr>\n",
       "      <th>58</th>\n",
       "      <td>2018</td>\n",
       "      <td>2.29</td>\n",
       "      <td>2.93</td>\n",
       "      <td>2.85</td>\n",
       "      <td>68.35</td>\n",
       "      <td>107.02</td>\n",
       "      <td>3.16</td>\n",
       "      <td>1.15</td>\n",
       "      <td>0.28</td>\n",
       "      <td>0.79</td>\n",
       "      <td>...</td>\n",
       "      <td>2.01</td>\n",
       "      <td>1.57</td>\n",
       "      <td>4865.96</td>\n",
       "      <td>996.77</td>\n",
       "      <td>1446.05</td>\n",
       "      <td>638.66</td>\n",
       "      <td>789.12</td>\n",
       "      <td>269.70</td>\n",
       "      <td>727.94</td>\n",
       "      <td>206.85</td>\n",
       "    </tr>\n",
       "    <tr>\n",
       "      <th>59</th>\n",
       "      <td>2019</td>\n",
       "      <td>2.34</td>\n",
       "      <td>2.88</td>\n",
       "      <td>2.56</td>\n",
       "      <td>61.41</td>\n",
       "      <td>77.89</td>\n",
       "      <td>2.57</td>\n",
       "      <td>1.14</td>\n",
       "      <td>0.28</td>\n",
       "      <td>0.56</td>\n",
       "      <td>...</td>\n",
       "      <td>1.72</td>\n",
       "      <td>1.64</td>\n",
       "      <td>4579.36</td>\n",
       "      <td>735.65</td>\n",
       "      <td>1407.37</td>\n",
       "      <td>601.37</td>\n",
       "      <td>765.44</td>\n",
       "      <td>273.10</td>\n",
       "      <td>695.89</td>\n",
       "      <td>154.87</td>\n",
       "    </tr>\n",
       "    <tr>\n",
       "      <th>60</th>\n",
       "      <td>2020</td>\n",
       "      <td>2.37</td>\n",
       "      <td>3.32</td>\n",
       "      <td>2.70</td>\n",
       "      <td>41.26</td>\n",
       "      <td>60.79</td>\n",
       "      <td>2.01</td>\n",
       "      <td>1.22</td>\n",
       "      <td>0.28</td>\n",
       "      <td>0.60</td>\n",
       "      <td>...</td>\n",
       "      <td>1.59</td>\n",
       "      <td>1.73</td>\n",
       "      <td>4336.28</td>\n",
       "      <td>1010.40</td>\n",
       "      <td>1697.81</td>\n",
       "      <td>751.77</td>\n",
       "      <td>837.76</td>\n",
       "      <td>278.94</td>\n",
       "      <td>699.71</td>\n",
       "      <td>209.65</td>\n",
       "    </tr>\n",
       "    <tr>\n",
       "      <th>61</th>\n",
       "      <td>2021</td>\n",
       "      <td>2.43</td>\n",
       "      <td>4.51</td>\n",
       "      <td>2.69</td>\n",
       "      <td>69.07</td>\n",
       "      <td>138.05</td>\n",
       "      <td>3.85</td>\n",
       "      <td>1.21</td>\n",
       "      <td>0.39</td>\n",
       "      <td>0.65</td>\n",
       "      <td>...</td>\n",
       "      <td>2.23</td>\n",
       "      <td>2.07</td>\n",
       "      <td>4154.74</td>\n",
       "      <td>1636.31</td>\n",
       "      <td>2075.09</td>\n",
       "      <td>1130.58</td>\n",
       "      <td>1385.41</td>\n",
       "      <td>271.35</td>\n",
       "      <td>749.95</td>\n",
       "      <td>338.62</td>\n",
       "    </tr>\n",
       "  </tbody>\n",
       "</table>\n",
       "<p>62 rows × 32 columns</p>\n",
       "</div>"
      ],
      "text/plain": [
       "    Year  Cocoa  Coffee   Tea  Crude Oil    Coal  Natural Gas  Banana  Sugar  \\\n",
       "0   1960   0.59    0.92  1.03       1.63    5.00         0.14    0.14   0.07   \n",
       "1   1961   0.48    0.90  0.95       1.57    6.00         0.15    0.13   0.06   \n",
       "2   1962   0.46    0.83  0.97       1.52    9.00         0.16    0.13   0.06   \n",
       "3   1963   0.55    0.81  0.95       1.50    7.00         0.16    0.14   0.18   \n",
       "4   1964   0.51    1.01  0.93       1.45    1.00         0.15    0.17   0.13   \n",
       "..   ...    ...     ...   ...        ...     ...          ...     ...    ...   \n",
       "57  2017   2.03    3.32  3.15      52.81   88.52         2.96    1.08   0.35   \n",
       "58  2018   2.29    2.93  2.85      68.35  107.02         3.16    1.15   0.28   \n",
       "59  2019   2.34    2.88  2.56      61.41   77.89         2.57    1.14   0.28   \n",
       "60  2020   2.37    3.32  2.70      41.26   60.79         2.01    1.22   0.28   \n",
       "61  2021   2.43    4.51  2.69      69.07  138.05         3.85    1.21   0.39   \n",
       "\n",
       "    Orange  ...  Cotton  Rubber  Tobacco  Coconut Oil  Groundnut Oil  \\\n",
       "0     0.13  ...    0.65    0.78  1736.87       312.33         327.00   \n",
       "1     0.13  ...    0.67    0.60  1563.19       253.42         330.25   \n",
       "2     0.11  ...    0.65    0.56  1404.90       251.22         274.34   \n",
       "3     0.09  ...    0.65    0.52  1343.61       286.33         268.50   \n",
       "4     0.08  ...    0.65    0.49  1488.30       296.48         315.38   \n",
       "..     ...  ...     ...     ...      ...          ...            ...   \n",
       "57    0.81  ...    1.84    2.00  4627.36      1650.65        1460.79   \n",
       "58    0.79  ...    2.01    1.57  4865.96       996.77        1446.05   \n",
       "59    0.56  ...    1.72    1.64  4579.36       735.65        1407.37   \n",
       "60    0.60  ...    1.59    1.73  4336.28      1010.40        1697.81   \n",
       "61    0.65  ...    2.23    2.07  4154.74      1636.31        2075.09   \n",
       "\n",
       "    Palm Oil  Soybean    Logs  Sawnwood  Nutella  \n",
       "0     224.42   223.92   31.94    149.17    64.48  \n",
       "1     228.42   287.33   33.06    151.98    52.67  \n",
       "2     216.24   227.00   36.39    160.06    52.37  \n",
       "3     222.39   223.58   35.49    157.85    59.64  \n",
       "4     239.45   233.00   30.26    144.83    61.69  \n",
       "..       ...      ...     ...       ...      ...  \n",
       "57    750.81   850.40  265.43    702.11   337.12  \n",
       "58    638.66   789.12  269.70    727.94   206.85  \n",
       "59    601.37   765.44  273.10    695.89   154.87  \n",
       "60    751.77   837.76  278.94    699.71   209.65  \n",
       "61   1130.58  1385.41  271.35    749.95   338.62  \n",
       "\n",
       "[62 rows x 32 columns]"
      ]
     },
     "execution_count": 255,
     "metadata": {},
     "output_type": "execute_result"
    }
   ],
   "source": [
    "# Analyseer de curves by 'eyeballing':\n",
    "# ...\n",
    "\n",
    "# Maak een schatting van de waarden:\n",
    "\n",
    "# ...\n",
    "\n",
    "\n",
    "# Gebruik Pandas om de data aan te vullen en op te slaan:\n",
    "df[\"Coal\"][:10] = random.sample(range(1, 10), 9)\n",
    "# ...\n",
    "df"
   ]
  },
  {
   "cell_type": "code",
   "execution_count": 266,
   "id": "bc037a5d-6614-4573-9d27-956ced3e933b",
   "metadata": {},
   "outputs": [
    {
     "data": {
      "text/plain": [
       "<AxesSubplot: xlabel='Year'>"
      ]
     },
     "execution_count": 266,
     "metadata": {},
     "output_type": "execute_result"
    },
    {
     "data": {
      "image/png": "[encoded data removed]",
      "text/plain": [
       "<Figure size 1500x600 with 1 Axes>"
      ]
     },
     "metadata": {},
     "output_type": "display_data"
    }
   ],
   "source": [
    "df.plot(x=\"Year\", y=\"Coal\", figsize=(15,6))\n"
   ]
  },
  {
   "cell_type": "code",
   "execution_count": 269,
   "id": "c4497e87-5f6d-4a9e-91ba-7dfcd29e5aa9",
   "metadata": {},
   "outputs": [
    {
     "data": {
      "text/plain": [
       "<AxesSubplot: >"
      ]
     },
     "execution_count": 269,
     "metadata": {},
     "output_type": "execute_result"
    },
    {
     "data": {
      "image/png": "[encoded data removed]",
      "text/plain": [
       "<Figure size 1000x600 with 1 Axes>"
      ]
     },
     "metadata": {},
     "output_type": "display_data"
    }
   ],
   "source": [
    "df.plot.line(y=['Coal', 'Crude Oil'], figsize=(10,6))"
   ]
  },
  {
   "cell_type": "code",
   "execution_count": 257,
   "id": "17c77ad0-04fd-4f0a-9a5f-6e4dc6900911",
   "metadata": {},
   "outputs": [],
   "source": [
    "df.to_csv('data/panda_ninja.csv') "
   ]
  },
  {
   "cell_type": "markdown",
   "id": "60c862d6",
   "metadata": {},
   "source": [
    "## Gefeliciteerd!"
   ]
  },
  {
   "cell_type": "markdown",
   "id": "0eb234a6",
   "metadata": {},
   "source": [
    "Je ben nu een kung fu panda."
   ]
  }
 ],
 "metadata": {
  "kernelspec": {
   "display_name": "Python 3 (ipykernel)",
   "language": "python",
   "name": "python3"
  },
  "language_info": {
   "codemirror_mode": {
    "name": "ipython",
    "version": 3
   },
   "file_extension": ".py",
   "mimetype": "text/x-python",
   "name": "python",
   "nbconvert_exporter": "python",
   "pygments_lexer": "ipython3",
   "version": "3.10.6"
  }
 },
 "nbformat": 4,
 "nbformat_minor": 5
}
